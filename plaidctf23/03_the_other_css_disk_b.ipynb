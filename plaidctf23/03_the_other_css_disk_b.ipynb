{
 "cells": [
  {
   "cell_type": "code",
   "execution_count": 1,
   "metadata": {},
   "outputs": [],
   "source": [
    "from pwn import remote, context\n",
    "from css.mangle import mangle\n",
    "\n",
    "context.log_level = \"error\"\n",
    "\n",
    "cipher_auth_key = \"0bfb91847347be4a\"\n",
    "\n",
    "def bxor(a, b):\n",
    "    return bytes([i ^ j for i, j in zip(a, b)])\n",
    "def do_cipher_auth_key(x):\n",
    "    k = bytes.fromhex(cipher_auth_key)\n",
    "    return bxor(x, k)\n",
    "\n",
    "r = remote(\"the-other-css.chal.pwni.ng\", 1996)\n",
    "\n",
    "host_challenge = bytes([0] * 16)\n",
    "r.send(host_challenge)\n",
    "challenge_key = host_challenge[:8]\n",
    "encrypted_host_nonce = host_challenge[8:]\n",
    "host_mangling_key = do_cipher_auth_key(challenge_key)\n",
    "\n",
    "r.recv(8)\n",
    "\n",
    "host_nonce = do_cipher_auth_key(encrypted_host_nonce)\n",
    "\n",
    "player_challenge_key = r.recv(8)\n",
    "encrypted_player_nonce = r.recv(8)\n",
    "player_nonce = do_cipher_auth_key(encrypted_player_nonce)\n",
    "\n",
    "player_mangling_key = do_cipher_auth_key(player_challenge_key)\n",
    "response = mangle(player_mangling_key, do_cipher_auth_key(player_nonce))\n",
    "r.send(response)\n",
    "\n",
    "mangling_key = bxor(host_mangling_key, player_mangling_key)\n",
    "session_nonce = bxor(host_nonce, player_nonce)\n",
    "session_key = mangle(mangling_key, session_nonce)"
   ]
  },
  {
   "cell_type": "code",
   "execution_count": 2,
   "metadata": {},
   "outputs": [
    {
     "name": "stderr",
     "output_type": "stream",
     "text": [
      "100%|██████████| 10/10 [00:01<00:00,  7.36it/s]\n"
     ]
    },
    {
     "name": "stdout",
     "output_type": "stream",
     "text": [
      "9b0daeae8ef33846\n"
     ]
    },
    {
     "name": "stderr",
     "output_type": "stream",
     "text": [
      "100%|██████████| 10/10 [00:01<00:00,  8.52it/s]\n"
     ]
    }
   ],
   "source": [
    "from tqdm import tqdm\n",
    "from itertools import count, cycle\n",
    "from css.cipher import Cipher\n",
    "from css.mode import Mode\n",
    "\n",
    "sectors = []\n",
    "for _ in tqdm(range(10)):\n",
    "    ct = b\"\"\n",
    "    try:\n",
    "        ct = r.recvn(8208, timeout=5)\n",
    "        sectors.append(ct)\n",
    "    except Exception:\n",
    "        ct = r.recv()\n",
    "        sectors.append(ct)\n",
    "    if len(ct) != 8208:\n",
    "        break\n",
    "\n",
    "stream_cipher = Cipher(session_key, Mode.Data)\n",
    "print(session_key.hex())\n",
    "\n",
    "decrypted_sectors_with_sector_xor = []\n",
    "for sector in tqdm(sectors):\n",
    "    decrypted_sectors_with_sector_xor.append(stream_cipher.decrypt(sector))"
   ]
  },
  {
   "cell_type": "code",
   "execution_count": 3,
   "metadata": {},
   "outputs": [
    {
     "data": {
      "text/plain": [
       "[{'idx': 0,\n",
       "  'nonce': 'a9debb718177adaa',\n",
       "  'stream': '50cff4558f8195fbe907baf6480ca15306e5d55cc3f374e0de18dd3e6406d7a7295b3f18ef38d98a51b005f96924e4dde831d69b825139bff8fe1045ba42400e'},\n",
       " {'idx': 1,\n",
       "  'nonce': '4911982d2aafef95',\n",
       "  'stream': '2599656b5d11fc0fc8682471e676e437199fa8635ce869ef7f8ee678a3b39dca1a5cbd440c6d6464e8be712f959ff9a78241b7bc619b720dd4c3785085c9e0f8'},\n",
       " {'idx': 2,\n",
       "  'nonce': '19d73155de9f486f',\n",
       "  'stream': 'f849e55da82feebd5600c201a0cddb3650d05a9cf292a4aa125a4738249e96c33b41fdc96a31b9e14e180eee1569af9382edfcd25854e6637a183214d44f08b9'},\n",
       " {'idx': 3,\n",
       "  'nonce': '70230e43f8e4a8a6',\n",
       "  'stream': 'aee6ae7123581fae8f259fb4460be47e127343d728af86ddfd9ff8d6604191f01d39f6b2d868fe448b4202970a4854dd51ca34a5042723cd1705952e34c6d15b'},\n",
       " {'idx': 4,\n",
       "  'nonce': '9ea411908f185729',\n",
       "  'stream': '7d52f73b5d6205bbba4c0bcf8c4004e6820c358398ecf358ed69cd02712b1e61143dabc4211d0c972a8bcfdfa986ba60feb177c0bb639c31f58b8d86291418e9'},\n",
       " {'idx': 5,\n",
       "  'nonce': '1a070ad76aa79c50',\n",
       "  'stream': '5dd1c5182663aa914ba2efa55b6720bea6399b622ba151c0dfb12a0942773b6fcd3aaa330f2e89b95609e9ac50afd84b1b5695267454a8cfbb6b051e4076af9c'},\n",
       " {'idx': 6,\n",
       "  'nonce': '2173ac47f32b2b7c',\n",
       "  'stream': 'abdebb7b336a1f28763c73e131a754b72b55b3887e34c01e9dc41c74d1b48501d5577073cece5137dcbf5feb23c26616242f543bfb8f87adcd5c01f09238316c'},\n",
       " {'idx': 7,\n",
       "  'nonce': '3fe9a6922687b1d5',\n",
       "  'stream': '064d33e9f482adb90868875f80cf3eb02415647ec254dc985013f8951c1e9a8dd436a01110447406df9824c14104d83322e8bec37fc6301d4002004a46748635'},\n",
       " {'idx': 8,\n",
       "  'nonce': '09e7392e1378b31a',\n",
       "  'stream': 'cd7cbf5f4792fafa8ce776988aa910d0bc262ae2a113f0c65cfd1aa5b5a9db97cece27b3e9889e248e523658b927b6127081281c554368dd457705616c6e2a62'},\n",
       " {'idx': 9,\n",
       "  'nonce': '779ce5bbeda83fc0',\n",
       "  'stream': '57a5f99b82b697684a540bd0fab3eda6e000ef82c3b9174ec94dafe623d4096dba150a8d1fba27b5aa5432a462ddb32a3d5f40e48ee8935bd3f1d8aa299d3adf'}]"
      ]
     },
     "execution_count": 3,
     "metadata": {},
     "output_type": "execute_result"
    }
   ],
   "source": [
    "disk_a_ct = open(\"disks/a.disk\", \"rb\")\n",
    "\n",
    "sector_params = []\n",
    "for sector_idx in range(10):\n",
    "    disk_a_ct.seek(8 * 128 + sector_idx * (8208 + 8))\n",
    "    sector_nonce = disk_a_ct.read(8)\n",
    "    sector_ct = disk_a_ct.read(64)\n",
    "    sector_pt = decrypted_sectors_with_sector_xor[sector_idx]\n",
    "    sector_stream = bxor(sector_ct, sector_pt)\n",
    "\n",
    "    sector_params.append({\n",
    "        \"idx\": sector_idx,\n",
    "        \"nonce\": sector_nonce.hex(),\n",
    "        \"stream\": sector_stream.hex()\n",
    "    })\n",
    "sector_params"
   ]
  },
  {
   "cell_type": "code",
   "execution_count": 4,
   "metadata": {},
   "outputs": [
    {
     "name": "stderr",
     "output_type": "stream",
     "text": [
      "  1%|▏         | 35596/2818048 [00:00<00:53, 51659.50it/s]\n"
     ]
    },
    {
     "name": "stdout",
     "output_type": "stream",
     "text": [
      "!!! 0 0xd58b0c\n"
     ]
    },
    {
     "name": "stderr",
     "output_type": "stream",
     "text": [
      "  0%|          | 30288/10027008 [00:00<00:55, 179479.58it/s]\n"
     ]
    },
    {
     "name": "stdout",
     "output_type": "stream",
     "text": [
      "!!! 1 0x677650\n"
     ]
    },
    {
     "name": "stderr",
     "output_type": "stream",
     "text": [
      "  0%|          | 10171/3080192 [00:00<00:17, 175500.32it/s]\n"
     ]
    },
    {
     "name": "stdout",
     "output_type": "stream",
     "text": [
      "!!! 2 0xd127bb\n"
     ]
    },
    {
     "name": "stderr",
     "output_type": "stream",
     "text": [
      "  0%|          | 34234/14680064 [00:00<01:20, 182841.50it/s]\n"
     ]
    },
    {
     "name": "stdout",
     "output_type": "stream",
     "text": [
      "!!! 3 0x2085ba\n"
     ]
    },
    {
     "name": "stderr",
     "output_type": "stream",
     "text": [
      "  0%|          | 8220/8323072 [00:00<00:47, 173516.35it/s]\n"
     ]
    },
    {
     "name": "stdout",
     "output_type": "stream",
     "text": [
      "!!! 4 0x81201c\n"
     ]
    },
    {
     "name": "stderr",
     "output_type": "stream",
     "text": [
      "  0%|          | 2949/9699328 [00:00<00:56, 171701.08it/s]\n"
     ]
    },
    {
     "name": "stdout",
     "output_type": "stream",
     "text": [
      "!!! 5 0x6c0b85\n"
     ]
    },
    {
     "name": "stderr",
     "output_type": "stream",
     "text": [
      "  1%|▏         | 14007/1114112 [00:00<00:06, 171306.65it/s]\n"
     ]
    },
    {
     "name": "stdout",
     "output_type": "stream",
     "text": [
      "!!! 6 0xef36b7\n"
     ]
    },
    {
     "name": "stderr",
     "output_type": "stream",
     "text": [
      "  0%|          | 37174/9830400 [00:00<00:56, 172390.26it/s]\n"
     ]
    },
    {
     "name": "stdout",
     "output_type": "stream",
     "text": [
      "!!! 7 0x6a9136\n"
     ]
    },
    {
     "name": "stderr",
     "output_type": "stream",
     "text": [
      "  0%|          | 23209/12189696 [00:00<01:06, 183615.52it/s]\n"
     ]
    },
    {
     "name": "stdout",
     "output_type": "stream",
     "text": [
      "!!! 8 0x465aa9\n"
     ]
    },
    {
     "name": "stderr",
     "output_type": "stream",
     "text": [
      "  0%|          | 428/327680 [00:00<00:01, 183161.12it/s]"
     ]
    },
    {
     "name": "stdout",
     "output_type": "stream",
     "text": [
      "!!! 9 0xfb01ac\n"
     ]
    },
    {
     "name": "stderr",
     "output_type": "stream",
     "text": [
      "\n"
     ]
    }
   ],
   "source": [
    "from functools import lru_cache\n",
    "from numba import jit\n",
    "from numba.typed import List\n",
    "\n",
    "cipher_nsamp = 16\n",
    "stream_nsamp = 12\n",
    "\n",
    "@lru_cache\n",
    "def taps_to_tapmasks(taps):\n",
    "    tapmasks = List()\n",
    "    m = 1\n",
    "    while taps:\n",
    "        if m & taps:\n",
    "            tapmasks.append(m)\n",
    "            taps = taps ^ m\n",
    "        m <<= 1\n",
    "    return tapmasks\n",
    "\n",
    "@jit(nopython=True)\n",
    "def fast_calc_lfsr_inner(size, seed, tapmasks, iters, flip):\n",
    "    state = seed\n",
    "\n",
    "    m = 1\n",
    "    ret = 0\n",
    "    rets = []\n",
    "    for _ in range(iters):\n",
    "        b = 0\n",
    "        for tapmask in tapmasks:\n",
    "            b ^= ((state & tapmask) == tapmask)\n",
    "        state = (b << (size - 1)) | (state >> 1)\n",
    "\n",
    "        b ^= flip\n",
    "        ret = ret | (b * m)\n",
    "        m <<= 1\n",
    "\n",
    "        if m == 0x100:\n",
    "            m = 1\n",
    "            rets.append(ret)\n",
    "            ret = 0\n",
    "\n",
    "    if m != 1:\n",
    "        rets.append(ret)\n",
    "\n",
    "    return rets\n",
    "\n",
    "def calc_lfsr(size, seed, taps, iters, flip):\n",
    "    tapmasks = taps_to_tapmasks(taps)\n",
    "    rets = fast_calc_lfsr_inner(size, seed, tapmasks, iters, flip)\n",
    "    ret = 0\n",
    "    for idx, i in enumerate(rets):\n",
    "        ret += i << (idx * 8)\n",
    "    return ret\n",
    "\n",
    "def check_key1(key1, numall):\n",
    "    seed1 = ((key1 & 0xfffff8) << 1) | 8 | (key1 & 7)\n",
    "    num1 = calc_lfsr(25, seed1, 0x19e4001, stream_nsamp * 8, 1)\n",
    "    num2 = (numall - num1) & ((1 << (stream_nsamp * 8)) - 1)\n",
    "    head_key2 = (num2 & 0x1ffffffffff) ^ 0x1ffffffffff\n",
    "    tail_num2 = calc_lfsr(41, head_key2, 0xfdc0000001, stream_nsamp * 8 - 41, 1)\n",
    "    if tail_num2 == num2 >> 41:\n",
    "        return key1\n",
    "    return None\n",
    "\n",
    "def keystream_to_numall(keystream):\n",
    "    keystream = bytes.fromhex(keystream)[:cipher_nsamp]\n",
    "    numall = int(bytes(keystream[::-1]).hex(), 16)\n",
    "    return numall\n",
    "\n",
    "def recover_key1(stream_idx, posthoc=None):\n",
    "    numall = keystream_to_numall(sector_params[stream_idx][\"stream\"])\n",
    "    start_from = 0 if posthoc is None else posthoc\n",
    "    for i in tqdm(range(start_from, 0x1000000)):\n",
    "        res = check_key1(i, numall)\n",
    "        if res is not None:\n",
    "            print(\"!!!\", stream_idx, hex(res))\n",
    "            return res\n",
    "    return None\n",
    "\n",
    "# posthocs = [None] * 10\n",
    "posthocs = [\n",
    "    0xd50000, 0x670000, 0xd10000, 0x200000, 0x810000,\n",
    "    0x6c0000, 0xef0000, 0x6a0000, 0x460000, 0xfb0000,\n",
    "]\n",
    "\n",
    "for sector_param, posthoc in zip(sector_params, posthocs):\n",
    "    sector_param[\"key1\"] = recover_key1(sector_param[\"idx\"], posthoc=posthoc)"
   ]
  },
  {
   "cell_type": "code",
   "execution_count": 5,
   "metadata": {},
   "outputs": [
    {
     "name": "stdout",
     "output_type": "stream",
     "text": [
      "d58b0c1a3a08361c\n",
      "677650352d147b20\n",
      "d127bb11efa1b9b5\n",
      "2085ba6294098918\n",
      "81201c6acdd7e256\n",
      "6c0b85ec94e8a9f0\n",
      "ef36b7f5094b82e5\n",
      "6a9136427269ab4f\n",
      "465aa988c4a412fe\n",
      "fb01ac777938dab9\n"
     ]
    }
   ],
   "source": [
    "from css.lfsr import LFSR\n",
    "\n",
    "def undo_lfsr(self):\n",
    "    bit = self.state >> (self.size - 1)\n",
    "    self.state = self.state ^ (bit << (self.size - 1))\n",
    "    self.state = self.state << 1\n",
    "    for tap in self.taps:\n",
    "        bit ^= (self.state & tap) == tap\n",
    "    self.state = self.state ^ bit\n",
    "\n",
    "LFSR.undo_lfsr = undo_lfsr\n",
    "\n",
    "def generate_key2(stream_idx):\n",
    "    key1 = sector_params[stream_idx][\"key1\"]\n",
    "    numall = keystream_to_numall(sector_params[stream_idx][\"stream\"])\n",
    "    seed1 = ((key1 & 0xfffff8) << 1) | 8 | (key1 & 7)\n",
    "    num1 = calc_lfsr(25, seed1, 0x19e4001, stream_nsamp * 8, 1)\n",
    "    num2 = (numall - num1) & ((1 << (stream_nsamp * 8)) - 1)\n",
    "    head_key2 = (num2 & 0x1ffffffffff) ^ 0x1ffffffffff\n",
    "    unlfsr2 = LFSR(41, head_key2, 0xfdc0000001)\n",
    "    for _ in range(41):\n",
    "        unlfsr2.undo_lfsr()\n",
    "    lfsr_key2 = unlfsr2.state\n",
    "    key2 = ((lfsr_key2 >> 1) & 0xfffffffff8) | (lfsr_key2 & 7)\n",
    "    return key2\n",
    "\n",
    "for sector_param, posthoc in zip(sector_params, posthocs):\n",
    "    sector_param[\"key2\"] = generate_key2(sector_param[\"idx\"])\n",
    "    sector_param[\"key\"] = (\n",
    "        hex(sector_param[\"key1\"])[2:].zfill(6) + \n",
    "        hex(sector_param[\"key2\"])[2:].zfill(10)\n",
    "    )\n",
    "    print(sector_param[\"key\"])"
   ]
  },
  {
   "cell_type": "code",
   "execution_count": 6,
   "metadata": {},
   "outputs": [
    {
     "name": "stdout",
     "output_type": "stream",
     "text": [
      "sat\n",
      "54e50074c348b1fb\n"
     ]
    }
   ],
   "source": [
    "import z3\n",
    "from css.table import table\n",
    "\n",
    "mangle_ins = []\n",
    "mangle_outs = []\n",
    "for sector_param in sector_params:\n",
    "    mangle_ins.append(list(bytes.fromhex(sector_param[\"nonce\"])))\n",
    "    mangle_outs.append(list(bytes.fromhex(sector_param[\"key\"])))\n",
    "\n",
    "def mix(key, value):\n",
    "    ret = value ^ z3.LShR(value, 8) ^ key\n",
    "    return ret\n",
    "\n",
    "def shift(value):\n",
    "    ret = value ^ (value << 56)\n",
    "    return ret\n",
    "\n",
    "def build_tabulate_one(solver):\n",
    "    tabulate_one = z3.Function(\"tabulate\", z3.BitVecSort(8), z3.BitVecSort(8))\n",
    "    for idx, table_i in enumerate(table):\n",
    "        solver.add(tabulate_one(idx) == table_i)\n",
    "    return tabulate_one\n",
    "\n",
    "def tabulate(value, name, tabulate_one, solver):\n",
    "    value_sym = z3.BitVec(name, 64)\n",
    "    solver.add(value_sym == value)\n",
    "    ret = []\n",
    "    for pos in reversed(range(0, 64, 8)):\n",
    "        ret.append(tabulate_one(z3.Extract(pos+7, pos, value_sym)))\n",
    "    ret = z3.Concat(*ret)\n",
    "    return ret\n",
    "\n",
    "def u8s_to_bitecval(x):\n",
    "    return z3.BitVecVal(int(bytes(x).hex(), 16), len(x) * 8)\n",
    "\n",
    "s = z3.Solver()\n",
    "\n",
    "tabulate_one = build_tabulate_one(s)\n",
    "\n",
    "key = z3.BitVec(\"key\", 64)\n",
    "\n",
    "# posthoc, otherwise will take 30min\n",
    "s.add(z3.Extract(31, 0, key) == 0xc348b1fb)\n",
    "\n",
    "for idx, (mangle_in, mangle_out) in enumerate(zip(mangle_ins, mangle_outs)):\n",
    "    value = u8s_to_bitecval(mangle_in)\n",
    "    goal = u8s_to_bitecval(mangle_out)\n",
    "\n",
    "    value = mix(key, value)\n",
    "    value = shift(value)\n",
    "    value = mix(key, value)\n",
    "    value = shift(value)\n",
    "    value = mix(key, value)\n",
    "    value = tabulate(value, f\"one_{idx}\", tabulate_one, s)\n",
    "    value = shift(value)\n",
    "    value = mix(key, value)\n",
    "    value = tabulate(value, f\"two_{idx}\", tabulate_one, s)\n",
    "    value = shift(value)\n",
    "    value = mix(key, value)\n",
    "    value = shift(value)\n",
    "    value = mix(key, value)\n",
    "\n",
    "    s.add(value == goal)\n",
    "\n",
    "print(s.check())\n",
    "\n",
    "disk_a_key_hex = hex(s.model()[key].as_long())[2:].zfill(16)\n",
    "print(disk_a_key_hex)"
   ]
  },
  {
   "cell_type": "code",
   "execution_count": 7,
   "metadata": {},
   "outputs": [],
   "source": [
    "@jit(nopython=True)\n",
    "def clock_byte_lfsr(size, state, taps):\n",
    "    byte = 0\n",
    "    for bitpos in range(8):\n",
    "        bit = 0\n",
    "        for tap in taps:\n",
    "            bit ^= (state & tap) == tap\n",
    "        state = (state >> 1) | (bit << (size - 1))\n",
    "        byte |= bit << bitpos\n",
    "    return state, byte\n",
    "\n",
    "class QLFSR:\n",
    "    def __init__(self, size, seed, taps):\n",
    "        self.size = size\n",
    "        self.state = seed\n",
    "        self.taps = List()\n",
    "        for i in range(size):\n",
    "            tap = taps & (1 << i)\n",
    "            if tap > 0:\n",
    "                self.taps.append(tap)\n",
    "\n",
    "    def next_byte(self):\n",
    "        self.state, byte = clock_byte_lfsr(self.size, self.state, self.taps)\n",
    "        return byte\n",
    "    \n",
    "import css.cipher\n",
    "css.cipher.LFSR = QLFSR"
   ]
  },
  {
   "cell_type": "code",
   "execution_count": 8,
   "metadata": {},
   "outputs": [
    {
     "name": "stdout",
     "output_type": "stream",
     "text": [
      "11fe4f04a729a3e6\n"
     ]
    },
    {
     "name": "stderr",
     "output_type": "stream",
     "text": [
      "3879it [01:41, 38.22it/s]\n"
     ]
    }
   ],
   "source": [
    "disk_a_key = bytes.fromhex(disk_a_key_hex)\n",
    "with open(\"./disks/a.disk\", \"rb\") as f:\n",
    "    disk_a_key_enc = f.read(8)\n",
    "player_key_xorpad = bxor(disk_a_key, disk_a_key_enc)\n",
    "f = open(\"./disks/b.disk\", \"rb\")\n",
    "disk_b_key_enc = f.read(8)\n",
    "disk_b_key = bxor(player_key_xorpad, disk_b_key_enc)\n",
    "\n",
    "disk_key = disk_b_key\n",
    "print(disk_key.hex())\n",
    "\n",
    "outfile = open(\"./diskB.iso\", \"wb\")\n",
    "\n",
    "f.seek(8 * 128)\n",
    "for sector_index in tqdm(count()):\n",
    "    sector_nonce = f.read(8)\n",
    "    if len(sector_nonce) == 0:\n",
    "        break\n",
    "    sector_key = mangle(disk_key, sector_nonce)\n",
    "    sector_cipher = Cipher(sector_key, Mode.Data)\n",
    "    data = sector_cipher.decrypt(f.read(8208))\n",
    "    \n",
    "    sector_xorpad = data[:16]\n",
    "    sector_buf = data[16:]\n",
    "\n",
    "    sector_pln = bxor(sector_buf, cycle(sector_xorpad))\n",
    "    outfile.write(sector_pln)"
   ]
  }
 ],
 "metadata": {
  "kernelspec": {
   "display_name": "sage",
   "language": "python",
   "name": "python3"
  },
  "language_info": {
   "codemirror_mode": {
    "name": "ipython",
    "version": 3
   },
   "file_extension": ".py",
   "mimetype": "text/x-python",
   "name": "python",
   "nbconvert_exporter": "python",
   "pygments_lexer": "ipython3",
   "version": "3.9.16"
  },
  "orig_nbformat": 4
 },
 "nbformat": 4,
 "nbformat_minor": 2
}
