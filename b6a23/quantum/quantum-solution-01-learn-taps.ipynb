{
 "cells": [
  {
   "cell_type": "markdown",
   "metadata": {},
   "source": [
    "Each time the qubit is rotated and measured, it has 50/50 chance of returning 0 or 1. Tracing through the stacktrace of the PRNG calls, we see that qiskit uses `std::mt19937_64` with our seed and extracts information using `std::discrete_distribution`, which in a 50/50 probability distribution is as good as extracting MSB of calls to `rng()` aka `std::mt19937_64::operator()`.\n",
    "\n",
    "The stacktrace to RNG calls looks like:\n",
    "\n",
    "- https://github.com/Qiskit/qiskit-aer/blob/9999dfbe3a6e39a222fa3477888f0c02f7a178b5/src/controllers/controller_execute.hpp#L155C1-L163\n",
    "- https://github.com/Qiskit/qiskit-aer/blob/9999dfbe3a6e39a222fa3477888f0c02f7a178b5/src/framework/rng.hpp#L54C1-L58\n",
    "- https://github.com/Qiskit/qiskit-aer/blob/9999dfbe3a6e39a222fa3477888f0c02f7a178b5/src/simulators/circuit_executor.hpp#L512-L532\n",
    "- https://github.com/Qiskit/qiskit-aer/blob/9999dfbe3a6e39a222fa3477888f0c02f7a178b5/src/simulators/circuit_executor.hpp#L608C11-L608C28 i think? since shots=1\n",
    "- https://github.com/Qiskit/qiskit-aer/blob/9999dfbe3a6e39a222fa3477888f0c02f7a178b5/src/simulators/circuit_executor.hpp#L758-L775\n",
    "- https://github.com/Qiskit/qiskit-aer/blob/9999dfbe3a6e39a222fa3477888f0c02f7a178b5/src/simulators/state.hpp#L318C1-L318C1\n",
    "- https://github.com/Qiskit/qiskit-aer/blob/9999dfbe3a6e39a222fa3477888f0c02f7a178b5/src/simulators/statevector/statevector_state.hpp#L514\n",
    "- https://github.com/Qiskit/qiskit-aer/blob/9999dfbe3a6e39a222fa3477888f0c02f7a178b5/src/simulators/statevector/statevector_state.hpp#L946\n",
    "- https://github.com/Qiskit/qiskit-aer/blob/9999dfbe3a6e39a222fa3477888f0c02f7a178b5/src/simulators/statevector/statevector_state.hpp#L972\n",
    "- https://github.com/Qiskit/qiskit-aer/blob/9999dfbe3a6e39a222fa3477888f0c02f7a178b5/src/framework/rng.hpp#L95\n",
    "\n",
    "We can verify that this is correct by calling `mt19937_64` with same seed seperately and observing the outputs."
   ]
  },
  {
   "cell_type": "code",
   "execution_count": 13,
   "metadata": {},
   "outputs": [
    {
     "data": {
      "text/plain": [
       "'0000000001010010101110010101110010101011100011010110110001110101'"
      ]
     },
     "execution_count": 13,
     "metadata": {},
     "output_type": "execute_result"
    }
   ],
   "source": [
    "def gen_otp(seed, n):\n",
    "    from qiskit import QuantumCircuit, QuantumRegister, Aer, ClassicalRegister\n",
    "    \n",
    "    qr = QuantumRegister(1)\n",
    "    cr = ClassicalRegister(n)\n",
    "    qc = QuantumCircuit(qr, cr)\n",
    "    for i in range(n):\n",
    "        # Apply H-gate\n",
    "        qc.h(0)\n",
    "        # Measure the qubit\n",
    "        qc.measure(0, i)\n",
    "\n",
    "    # seed = int.from_bytes(os.urandom(8), 'big') & 0x7FFFFFFFFFFFFFFF\n",
    "    sv_sim = Aer.get_backend('qasm_simulator')\n",
    "    job = sv_sim.run(qc, seed_simulator=seed, shots=1)\n",
    "    job_result = job.result()\n",
    "    otp = list(job_result.get_counts().keys())[0]\n",
    "\n",
    "    return otp\n",
    "\n",
    "# qiskit will output first random state at the last bit, we reverse to \n",
    "# make comparison easier\n",
    "gen_otp(1116, 64)[::-1] "
   ]
  },
  {
   "cell_type": "code",
   "execution_count": 14,
   "metadata": {},
   "outputs": [
    {
     "name": "stdout",
     "output_type": "stream",
     "text": [
      "env: LD_LIBRARY_PATH=\n",
      "0000000001010010101110010101110010101011100011010110110001110101 - from distribution\n",
      "0000000001010010101110010101110010101011100011010110110001110101 - from msb\n"
     ]
    }
   ],
   "source": [
    "cppsrc = \"\"\"\n",
    "#include <bits/stdc++.h>\n",
    "using namespace std;\n",
    "\n",
    "typedef unsigned long long int ulli;\n",
    "\n",
    "int main() {\n",
    "    mt19937_64 rng1, rng2;\n",
    "    ulli seed = 1116; // same seed\n",
    "    ulli n = 64;\n",
    "    rng1.seed(seed);\n",
    "    rng2.seed(seed);\n",
    "    vector<int> probs = {1, 1};\n",
    "    auto distrib = discrete_distribution(probs.begin(), probs.end());\n",
    "\n",
    "    for (int i = 0; i < n; i++) {\n",
    "        ulli res1 = distrib(rng1);\n",
    "        printf(\"%llu\", res1);\n",
    "    }\n",
    "    printf(\" - from distribution\\\\n\");\n",
    "\n",
    "    for (int i = 0; i < n; i++) {\n",
    "        ulli res2 = rng2();\n",
    "        printf(\"%llu\", res2 >> 63);\n",
    "    }\n",
    "    printf(\" - from msb\\\\n\");\n",
    "\n",
    "    return 0;\n",
    "}\n",
    "\"\"\"\n",
    "\n",
    "with open(\"gen.cpp\", \"w\") as f:\n",
    "    f.write(cppsrc)\n",
    "\n",
    "# bruh my tensorflow install wrecks my glibc\n",
    "%set_env LD_LIBRARY_PATH=\n",
    "!g++ gen.cpp -o gen && chmod +x gen && ./gen"
   ]
  },
  {
   "cell_type": "markdown",
   "metadata": {},
   "source": [
    "All bits of the twister are F2 linear, so a system which extracts only MSB of the twister is also F2 linear. We can model this as a LFSR with unknown taps and this will even work with the bitstream in reverse. This can be efficiently solved using some gaussian elimination and by modelling each row of the matrix as a 19937-bit integer, with `mpz` for speedup. Solver library has been placed in `libquantum.py` for reuse in part 2."
   ]
  },
  {
   "cell_type": "code",
   "execution_count": 15,
   "metadata": {},
   "outputs": [],
   "source": [
    "from gmpy2 import mpz\n",
    "from tqdm.auto import tqdm\n",
    "from libquantum import gaussian_elimination"
   ]
  },
  {
   "cell_type": "code",
   "execution_count": 16,
   "metadata": {},
   "outputs": [],
   "source": [
    "otp = gen_otp(1116, 312 * 64 * 3)"
   ]
  },
  {
   "cell_type": "code",
   "execution_count": 17,
   "metadata": {},
   "outputs": [
    {
     "data": {
      "application/vnd.jupyter.widget-view+json": {
       "model_id": "1baca49d6ad944b88c1e67b5ab776a15",
       "version_major": 2,
       "version_minor": 0
      },
      "text/plain": [
       "  0%|          | 0/19937 [00:00<?, ?it/s]"
      ]
     },
     "metadata": {},
     "output_type": "display_data"
    },
    {
     "data": {
      "application/vnd.jupyter.widget-view+json": {
       "model_id": "02b83eec70d149f7b177120321872c5e",
       "version_major": 2,
       "version_minor": 0
      },
      "text/plain": [
       "  0%|          | 0/19937 [00:00<?, ?it/s]"
      ]
     },
     "metadata": {},
     "output_type": "display_data"
    },
    {
     "data": {
      "application/vnd.jupyter.widget-view+json": {
       "model_id": "8da5fa6c419742b2aeffbf46b54307e2",
       "version_major": 2,
       "version_minor": 0
      },
      "text/plain": [
       "  0%|          | 0/19937 [00:00<?, ?it/s]"
      ]
     },
     "metadata": {},
     "output_type": "display_data"
    }
   ],
   "source": [
    "state_bits = 19937\n",
    "\n",
    "relations = {}\n",
    "solutions = {}\n",
    "for i in tqdm(range(state_bits)):\n",
    "    relations[i] = mpz(int(otp[i:state_bits+i][::-1], 2))\n",
    "    solutions[i] = int(otp[state_bits+i])\n",
    "\n",
    "tap_coeffs = gaussian_elimination(relations, solutions)"
   ]
  },
  {
   "cell_type": "code",
   "execution_count": 18,
   "metadata": {},
   "outputs": [
    {
     "name": "stdout",
     "output_type": "stream",
     "text": [
      "len(taps)=284\n",
      "taps=[0, 311, 467, 623, 779, 935, 1091, 1244, 1247, 1403, 1559, 1715, 1866, 1868, 1871, 2027, 2177, 2178, 2183, 2333, 2339, 2488, 2492, 2495, 2651, 2799, 2807, 2955, 2963, 3111, 3114, 3116, 3119, 3267, 3275, 3423, 3425, 3426, 3431, 3579, 3581, 3587, 3732, 3735, 3736, 3740, 3743, 3891, 3899, 4043, 4055, 4199, 4211, 4355, 4356, 4362, 4364, 4367, 4511, 4523, 4673, 4674, 4679, 4829, 4835, 4984, 4988, 4991, 5147, 5295, 5303, 5451, 5459, 5598, 5607, 5610, 5612, 5615, 5763, 5771, 5909, 5910, 5919, 5921, 5922, 5927, 6065, 6075, 6077, 6083, 6222, 6228, 6231, 6232, 6236, 6239, 6387, 6395, 6533, 6534, 6539, 6551, 6689, 6695, 6707, 6842, 6846, 6851, 6852, 6858, 6860, 6863, 7007, 7019, 7153, 7154, 7157, 7158, 7169, 7170, 7175, 7309, 7313, 7325, 7331, 7470, 7480, 7484, 7487, 7643, 7775, 7781, 7782, 7791, 7799, 7931, 7937, 7947, 7955, 8087, 8090, 8103, 8106, 8108, 8111, 8243, 8259, 8267, 8399, 8401, 8402, 8415, 8417, 8418, 8423, 8555, 8557, 8571, 8573, 8579, 8708, 8711, 8724, 8727, 8728, 8732, 8735, 8867, 8883, 8891, 9035, 9047, 9191, 9203, 9330, 9332, 9347, 9348, 9354, 9356, 9359, 9503, 9515, 9642, 9665, 9666, 9671, 9821, 9827, 9953, 9976, 9980, 9983, 9984, 10139, 10287, 10443, 10577, 10590, 10599, 10602, 10604, 10755, 10889, 10901, 10902, 10911, 10913, 10914, 11057, 11067, 11069, 11214, 11220, 11223, 11224, 11379, 11525, 11526, 11531, 11669, 11681, 11687, 11825, 11834, 11838, 11843, 11844, 11981, 11999, 12145, 12146, 12149, 12150, 12293, 12301, 12305, 12462, 12761, 12767, 12773, 12774, 12923, 12929, 13073, 13079, 13082, 13235, 13385, 13391, 13393, 13394, 13541, 13547, 13549, 13697, 13700, 13703, 13853, 13859, 14321, 14322, 14324, 14477, 14634, 14945, 15257, 15569, 15881, 16037, 16349, 16505, 16661, 16817, 17129, 17285, 17441, 17909, 18065, 18221, 18689, 18845, 19469, 19625]\n"
     ]
    }
   ],
   "source": [
    "taps = []\n",
    "for pos, soln in tap_coeffs.items():\n",
    "    if soln:\n",
    "        taps.append(pos)\n",
    "print(f\"{len(taps)=}\")\n",
    "print(f\"{taps=}\")"
   ]
  },
  {
   "cell_type": "code",
   "execution_count": 19,
   "metadata": {},
   "outputs": [
    {
     "data": {
      "application/vnd.jupyter.widget-view+json": {
       "model_id": "98e946cccbad45e88d82eebb115750bd",
       "version_major": 2,
       "version_minor": 0
      },
      "text/plain": [
       "  0%|          | 0/1000 [00:00<?, ?it/s]"
      ]
     },
     "metadata": {},
     "output_type": "display_data"
    }
   ],
   "source": [
    "for pos in tqdm(range(30_000, 31_000)):\n",
    "    history = otp[pos:state_bits+pos]\n",
    "    goal = int(otp[state_bits+pos])\n",
    "\n",
    "    cur = 0\n",
    "    for tap in taps:\n",
    "        if history[tap] == \"1\":\n",
    "            cur ^= 1\n",
    "    assert cur == goal"
   ]
  }
 ],
 "metadata": {
  "kernelspec": {
   "display_name": "base",
   "language": "python",
   "name": "python3"
  },
  "language_info": {
   "codemirror_mode": {
    "name": "ipython",
    "version": 3
   },
   "file_extension": ".py",
   "mimetype": "text/x-python",
   "name": "python",
   "nbconvert_exporter": "python",
   "pygments_lexer": "ipython3",
   "version": "3.11.4"
  },
  "orig_nbformat": 4
 },
 "nbformat": 4,
 "nbformat_minor": 2
}
