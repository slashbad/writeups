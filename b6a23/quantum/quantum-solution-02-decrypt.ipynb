{
 "cells": [
  {
   "cell_type": "code",
   "execution_count": 1,
   "metadata": {},
   "outputs": [],
   "source": [
    "from libquantum import gaussian_elimination, Symlfsr, eval_bit\n",
    "from tqdm.auto import tqdm"
   ]
  },
  {
   "cell_type": "code",
   "execution_count": 2,
   "metadata": {},
   "outputs": [
    {
     "name": "stdout",
     "output_type": "stream",
     "text": [
      "crib_n=10764\n",
      "ciphertext_n=114819\n"
     ]
    }
   ],
   "source": [
    "LEAK = False\n",
    "# LEAK = True\n",
    "\n",
    "with open(\"quantum.jpg\", \"rb\") as f:\n",
    "    crib_pln = f.read()\n",
    "with open(\"quantum.jpg.enc\", \"rb\") as f:\n",
    "    crib_enc = f.read()\n",
    "crib_n = len(crib_pln)\n",
    "print(f\"{crib_n=}\")\n",
    "\n",
    "with open(\"flag.enc\", \"rb\") as f:\n",
    "    ciphertext = f.read()\n",
    "ciphertext_n = len(ciphertext)\n",
    "print(f\"{ciphertext_n=}\")\n",
    "\n",
    "if LEAK:\n",
    "    with open(\"seq_leak.txt\", \"r\") as f:\n",
    "        seq_leak_bin = f.read().strip()\n",
    "    seq_n = len(seq_leak_bin)\n",
    "    print(f\"{seq_n=}\")\n",
    "\n",
    "    seq_leak = []\n",
    "    for i in range(0, seq_n, 8):\n",
    "        seq_leak.append(int(seq_leak_bin[i:i+8], 2))\n",
    "    seq_leak = bytes(seq_leak)"
   ]
  },
  {
   "cell_type": "code",
   "execution_count": 3,
   "metadata": {},
   "outputs": [],
   "source": [
    "def bxor(a, b):\n",
    "    return bytes(i ^ j for i, j in zip(a, b))\n",
    "\n",
    "crib_otp = bxor(crib_pln, crib_enc)\n",
    "crib_otp[:20].hex()\n",
    "\n",
    "if LEAK:\n",
    "    crib_otp_leak = bxor(\n",
    "        bxor(\n",
    "            seq_leak[0:crib_n],\n",
    "            seq_leak[crib_n:crib_n*2],\n",
    "        ),\n",
    "        seq_leak[crib_n*2:crib_n*3]\n",
    "    )\n",
    "    assert crib_otp == crib_otp_leak"
   ]
  },
  {
   "cell_type": "code",
   "execution_count": 4,
   "metadata": {},
   "outputs": [
    {
     "data": {
      "application/vnd.jupyter.widget-view+json": {
       "model_id": "545fa34484ef4b588c300f4a50be7e82",
       "version_major": 2,
       "version_minor": 0
      },
      "text/plain": [
       "  0%|          | 0/86112 [00:00<?, ?it/s]"
      ]
     },
     "metadata": {},
     "output_type": "display_data"
    },
    {
     "data": {
      "application/vnd.jupyter.widget-view+json": {
       "model_id": "621dd99823394df5ab2cdf8b4ba6ca67",
       "version_major": 2,
       "version_minor": 0
      },
      "text/plain": [
       "  0%|          | 0/86112 [00:00<?, ?it/s]"
      ]
     },
     "metadata": {},
     "output_type": "display_data"
    },
    {
     "data": {
      "application/vnd.jupyter.widget-view+json": {
       "model_id": "a921e93622554a9685f582e3c25227e0",
       "version_major": 2,
       "version_minor": 0
      },
      "text/plain": [
       "  0%|          | 0/86112 [00:00<?, ?it/s]"
      ]
     },
     "metadata": {},
     "output_type": "display_data"
    }
   ],
   "source": [
    "symlfsr = Symlfsr.init_sym()\n",
    "relations = {\n",
    "    i: 0\n",
    "    for i in range(Symlfsr.n)\n",
    "}\n",
    "solutions = {\n",
    "    i: (crib_otp[i // 8] >> (7-(i % 8))) & 1\n",
    "    for i in range(Symlfsr.n)\n",
    "}\n",
    "\n",
    "for rep in range(3):\n",
    "    for pos in tqdm(range(crib_n * 8)):\n",
    "        lfsr_out = symlfsr.next()\n",
    "        if pos < Symlfsr.n:\n",
    "            relations[pos] ^= lfsr_out"
   ]
  },
  {
   "cell_type": "code",
   "execution_count": 5,
   "metadata": {},
   "outputs": [
    {
     "data": {
      "application/vnd.jupyter.widget-view+json": {
       "model_id": "1852d963ed454e449c6aa9e758552448",
       "version_major": 2,
       "version_minor": 0
      },
      "text/plain": [
       "  0%|          | 0/19937 [00:00<?, ?it/s]"
      ]
     },
     "metadata": {},
     "output_type": "display_data"
    },
    {
     "data": {
      "application/vnd.jupyter.widget-view+json": {
       "model_id": "306efa761bf4405a9238eab3c74e6c01",
       "version_major": 2,
       "version_minor": 0
      },
      "text/plain": [
       "  0%|          | 0/19937 [00:00<?, ?it/s]"
      ]
     },
     "metadata": {},
     "output_type": "display_data"
    }
   ],
   "source": [
    "initial_state = gaussian_elimination(relations, solutions)\n",
    "\n",
    "if LEAK:\n",
    "    for k, v in initial_state.items():\n",
    "        assert int(seq_leak_bin[k]) == v"
   ]
  },
  {
   "cell_type": "code",
   "execution_count": 6,
   "metadata": {},
   "outputs": [
    {
     "data": {
      "application/vnd.jupyter.widget-view+json": {
       "model_id": "6e90e1aa98be4ca4ab98c8a771e6d966",
       "version_major": 2,
       "version_minor": 0
      },
      "text/plain": [
       "  0%|          | 0/86112 [00:00<?, ?it/s]"
      ]
     },
     "metadata": {},
     "output_type": "display_data"
    },
    {
     "data": {
      "application/vnd.jupyter.widget-view+json": {
       "model_id": "facc492410434e26b10c70d0b7cdc591",
       "version_major": 2,
       "version_minor": 0
      },
      "text/plain": [
       "  0%|          | 0/86112 [00:00<?, ?it/s]"
      ]
     },
     "metadata": {},
     "output_type": "display_data"
    },
    {
     "data": {
      "application/vnd.jupyter.widget-view+json": {
       "model_id": "f480eed453154803b468ef20b0c6c705",
       "version_major": 2,
       "version_minor": 0
      },
      "text/plain": [
       "  0%|          | 0/86112 [00:00<?, ?it/s]"
      ]
     },
     "metadata": {},
     "output_type": "display_data"
    },
    {
     "data": {
      "application/vnd.jupyter.widget-view+json": {
       "model_id": "3eaaba695e8b4cd8a40190d4d7e67393",
       "version_major": 2,
       "version_minor": 0
      },
      "text/plain": [
       "  0%|          | 0/918552 [00:00<?, ?it/s]"
      ]
     },
     "metadata": {},
     "output_type": "display_data"
    },
    {
     "data": {
      "application/vnd.jupyter.widget-view+json": {
       "model_id": "39e0eac342a747228594394ff5996322",
       "version_major": 2,
       "version_minor": 0
      },
      "text/plain": [
       "  0%|          | 0/918552 [00:00<?, ?it/s]"
      ]
     },
     "metadata": {},
     "output_type": "display_data"
    },
    {
     "data": {
      "application/vnd.jupyter.widget-view+json": {
       "model_id": "f3e0f99805aa49b0ba17b03d4232d2ef",
       "version_major": 2,
       "version_minor": 0
      },
      "text/plain": [
       "  0%|          | 0/918552 [00:00<?, ?it/s]"
      ]
     },
     "metadata": {},
     "output_type": "display_data"
    }
   ],
   "source": [
    "symlfsr = Symlfsr.init_with_state(initial_state)\n",
    "\n",
    "for rep in range(3):\n",
    "    for pos in tqdm(range(crib_n * 8)):\n",
    "        lfsr_out = symlfsr.next()\n",
    "\n",
    "ciphertext_otp_bin = [0 for _ in range(ciphertext_n * 8)]\n",
    "\n",
    "for rep in range(3):\n",
    "    for pos in tqdm(range(ciphertext_n * 8)):\n",
    "        lfsr_out = symlfsr.next()\n",
    "        ciphertext_otp_bin[pos] ^= lfsr_out"
   ]
  },
  {
   "cell_type": "code",
   "execution_count": 7,
   "metadata": {},
   "outputs": [],
   "source": [
    "ciphertext_otp = []\n",
    "for i in range(0, len(ciphertext_otp_bin), 8):\n",
    "    ciphertext_otp.append(int(\n",
    "        \"\".join(str(j) for j in ciphertext_otp_bin[i:i+8])\n",
    "    , 2))\n",
    "ciphertext_otp = bytes(ciphertext_otp)\n",
    "\n",
    "if LEAK:\n",
    "    ciphertext_otp_leak = bxor(\n",
    "        bxor(\n",
    "            seq_leak[crib_n*3:crib_n*3+ciphertext_n],\n",
    "            seq_leak[crib_n*3+ciphertext_n:crib_n*2+ciphertext_n*2],\n",
    "        ),\n",
    "        seq_leak[crib_n*3+ciphertext_n*2:crib_n*3+ciphertext_n*3]\n",
    "    )\n",
    "\n",
    "plaintext = bxor(ciphertext, ciphertext_otp)\n",
    "with open(\"dec.bin\", \"wb\") as f:\n",
    "    f.write(plaintext)"
   ]
  }
 ],
 "metadata": {
  "kernelspec": {
   "display_name": "base",
   "language": "python",
   "name": "python3"
  },
  "language_info": {
   "codemirror_mode": {
    "name": "ipython",
    "version": 3
   },
   "file_extension": ".py",
   "mimetype": "text/x-python",
   "name": "python",
   "nbconvert_exporter": "python",
   "pygments_lexer": "ipython3",
   "version": "3.11.4"
  },
  "orig_nbformat": 4
 },
 "nbformat": 4,
 "nbformat_minor": 2
}
