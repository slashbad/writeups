{
 "cells": [
  {
   "cell_type": "code",
   "execution_count": 1,
   "metadata": {},
   "outputs": [
    {
     "name": "stdout",
     "output_type": "stream",
     "text": [
      "[x] Starting local process '/home/sy/miniconda3/bin/python'\n",
      "[+] Starting local process '/home/sy/miniconda3/bin/python': pid 34142\n"
     ]
    },
    {
     "data": {
      "application/vnd.jupyter.widget-view+json": {
       "model_id": "11761888eda544f69591100cd23ac210",
       "version_major": 2,
       "version_minor": 0
      },
      "text/plain": [
       "  0%|          | 0/180 [00:00<?, ?it/s]"
      ]
     },
     "metadata": {},
     "output_type": "display_data"
    },
    {
     "data": {
      "application/vnd.jupyter.widget-view+json": {
       "model_id": "a544cc4052244b68a0cf926971eb62ff",
       "version_major": 2,
       "version_minor": 0
      },
      "text/plain": [
       "  0%|          | 0/180 [00:00<?, ?it/s]"
      ]
     },
     "metadata": {},
     "output_type": "display_data"
    },
    {
     "name": "stdout",
     "output_type": "stream",
     "text": [
      "flag.hex()='b0873e97866fe2f981db3d8b3f011517f2ee66e6f0aacb5daaa86a3f8b18718b'\n"
     ]
    }
   ],
   "source": [
    "# Collect data\n",
    "\n",
    "from pwn import *\n",
    "from Crypto.Util.Padding import pad\n",
    "from tqdm.auto import tqdm\n",
    "\n",
    "def bxor(a, b):\n",
    "    return bytes(i ^ j for i, j in zip(a, b))\n",
    "\n",
    "r = process([\"python\", \"aes_confusion.py\"])\n",
    "# r = remote(\"34.124.157.94\", 19522)\n",
    "\n",
    "# each encryption reveals 4 int32 of random state\n",
    "# we need 624 int32s of state to recover the PRNG\n",
    "# 180 batches gets 720 int32s\n",
    "n_batches = 180\n",
    "dummy_pln = b\"\\x00\" * 15\n",
    "dummy_pln_pad = pad(dummy_pln, 16)\n",
    "\n",
    "# Send dummy plaintext for encryption in one batch\n",
    "r.send(\n",
    "    f\"1\\n{dummy_pln.hex()}\\n\".encode() * n_batches\n",
    ")\n",
    "dummy_encs = []\n",
    "for _ in tqdm(range(n_batches)):\n",
    "    r.recvuntil(b\"Ciphertext: \")\n",
    "    dummy_enc = bytes.fromhex(r.recvline().strip().decode())\n",
    "    dummy_encs.append(dummy_enc)\n",
    "\n",
    "# Decrypt ciphertexts and xor with plaintext to recover the IVs\n",
    "r.send(\"\".join(\n",
    "    f\"2\\n{dummy_enc.hex()}\\n\"\n",
    "    for dummy_enc in dummy_encs\n",
    ").encode())\n",
    "ivs = []\n",
    "for _ in tqdm(range(n_batches)):\n",
    "    r.recvuntil(b\"Plaintext: \")\n",
    "    iv_raw = bytes.fromhex(r.recvline().strip().decode())\n",
    "    iv = bxor(dummy_pln_pad, iv_raw)\n",
    "    ivs.append(iv)\n",
    "\n",
    "# Obtain the flag ciphertext\n",
    "r.send(b\"3\\n\")\n",
    "r.recvuntil(b\"Flag: \")\n",
    "flag = bytes.fromhex(r.recvline().strip().decode())\n",
    "print(f\"{flag.hex()=}\")"
   ]
  },
  {
   "cell_type": "code",
   "execution_count": 2,
   "metadata": {},
   "outputs": [
    {
     "data": {
      "application/vnd.jupyter.widget-view+json": {
       "model_id": "2e4ba5ad2af241428d48a05b675c8edb",
       "version_major": 2,
       "version_minor": 0
      },
      "text/plain": [
       "  0%|          | 0/180 [00:00<?, ?it/s]"
      ]
     },
     "metadata": {},
     "output_type": "display_data"
    },
    {
     "name": "stdout",
     "output_type": "stream",
     "text": [
      "sat\n"
     ]
    }
   ],
   "source": [
    "from sage_army_knife import Untwister # template lib\n",
    "\n",
    "ut = Untwister()\n",
    "\n",
    "# clock PRNG 4 times when it generated key\n",
    "for _ in range(4):\n",
    "    ut.submit(\"?\" * 32)\n",
    "# clock PRNG 4 times when it generated iv\n",
    "for _ in range(4):\n",
    "    ut.submit(\"?\" * 32)\n",
    "\n",
    "# submit the data \n",
    "for iv in tqdm(ivs):\n",
    "    for sli in range(0, 16, 4):\n",
    "        ivsl = iv[sli:sli+4]\n",
    "        ivsl_int = int.from_bytes(ivsl, \"little\")\n",
    "        ivsl_bin = bin(ivsl_int)[2:].zfill(32)\n",
    "        ut.submit(ivsl_bin)\n",
    "\n",
    "# recover the PRNG at the start\n",
    "rng = ut.get_random_after_seed()"
   ]
  },
  {
   "cell_type": "code",
   "execution_count": 3,
   "metadata": {},
   "outputs": [
    {
     "name": "stdout",
     "output_type": "stream",
     "text": [
      "476dceea6cb2c6aff5e8e58c2ada1451\n",
      "iv.hex()='f7e5a5b42a34da9c7d0371e01d9bbf67'\n",
      "flag_pln=b'grey{tr4v3ll1n9_84ck_1n_t1m3}\\x03\\x03\\x03'\n"
     ]
    }
   ],
   "source": [
    "from Crypto.Cipher import AES\n",
    "\n",
    "key = rng.randbytes(16)\n",
    "iv = rng.randbytes(16)\n",
    "print(f\"{key.hex()}\")\n",
    "print(f\"{iv.hex()=}\")\n",
    "\n",
    "cipher = AES.new(key, mode=AES.MODE_CBC, iv=iv)\n",
    "flag_pln = cipher.decrypt(flag)\n",
    "print(f\"{flag_pln=}\")"
   ]
  }
 ],
 "metadata": {
  "kernelspec": {
   "display_name": "base",
   "language": "python",
   "name": "python3"
  },
  "language_info": {
   "codemirror_mode": {
    "name": "ipython",
    "version": 3
   },
   "file_extension": ".py",
   "mimetype": "text/x-python",
   "name": "python",
   "nbconvert_exporter": "python",
   "pygments_lexer": "ipython3",
   "version": "3.11.4"
  },
  "orig_nbformat": 4
 },
 "nbformat": 4,
 "nbformat_minor": 2
}
