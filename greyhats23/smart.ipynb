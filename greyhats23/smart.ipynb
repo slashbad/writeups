{
 "cells": [
  {
   "cell_type": "code",
   "execution_count": 1,
   "metadata": {},
   "outputs": [
    {
     "name": "stdout",
     "output_type": "stream",
     "text": [
      "[x] Starting local process '/home/sy/miniconda3/bin/python'\n",
      "[+] Starting local process '/home/sy/miniconda3/bin/python': pid 41041\n",
      "target=(954, 13, 506, 838)\n"
     ]
    }
   ],
   "source": [
    "from pwn import *\n",
    "\n",
    "# get the target hash\n",
    "# conn = remote(\"34.124.157.94\", 32521)\n",
    "conn = process([\"python\", \"smart.py\"])\n",
    "conn.recvuntil(b\"Target: \")\n",
    "target = safeeval.expr(conn.recvline().decode().strip())\n",
    "print(f\"{target=}\")"
   ]
  },
  {
   "cell_type": "code",
   "execution_count": 2,
   "metadata": {},
   "outputs": [],
   "source": [
    "from numba import njit\n",
    "\n",
    "p = 1657; q = 1663; r = 1049; s = 1193\n",
    "@njit() # speedup!\n",
    "def f(v):\n",
    "    a = (5 * v[0] + 3 * v[1] + 7 * v[2] + 4 * v[3] + v[0] * v[1] + 10 * (v[2] * v[3])**2) % p\n",
    "    b = (9 * v[0] + 2 * v[1] + 1 * v[2] + 1 * v[3] + v[1] * v[2] + 11 * (v[0] * v[3])**2) % q\n",
    "    c = (6 * v[0] + 7 * v[1] + 3 * v[2] + 9 * v[3] + v[2] * v[3] + 12 * (v[0] * v[1])**2) % r\n",
    "    d = (8 * v[0] + 5 * v[1] + 2 * v[2] + 7 * v[3] + v[3] * v[0] + 13 * (v[1] * v[2])**2) % s\n",
    "    return (a,b,c,d)\n",
    "\n",
    "def h(v):\n",
    "    k = 5555 + ((v[0] * v[1] * v[2] * v[3]) % 3000000)\n",
    "    for _ in range(k):\n",
    "        v = f(v)\n",
    "    return v"
   ]
  },
  {
   "cell_type": "code",
   "execution_count": 3,
   "metadata": {},
   "outputs": [
    {
     "data": {
      "application/vnd.jupyter.widget-view+json": {
       "model_id": "8ed442489dfd426fa297121404732201",
       "version_major": 2,
       "version_minor": 0
      },
      "text/plain": [
       "  0%|          | 0/2999999 [00:00<?, ?it/s]"
      ]
     },
     "metadata": {},
     "output_type": "display_data"
    },
    {
     "name": "stdout",
     "output_type": "stream",
     "text": [
      "Found cycle length 1022119\n"
     ]
    },
    {
     "data": {
      "application/vnd.jupyter.widget-view+json": {
       "model_id": "de2fe5ca76e945148faac8988ab2fb87",
       "version_major": 2,
       "version_minor": 0
      },
      "text/plain": [
       "  0%|          | 0/1022118 [00:00<?, ?it/s]"
      ]
     },
     "metadata": {},
     "output_type": "display_data"
    },
    {
     "name": "stdout",
     "output_type": "stream",
     "text": [
      "Found solution (396, 976, 233, 6)\n"
     ]
    }
   ],
   "source": [
    "from tqdm.auto import tqdm\n",
    "\n",
    "# find cycle length\n",
    "ptr = target\n",
    "found = False\n",
    "for cycle_len in tqdm(range(1, 3_000_000)):\n",
    "    ptr = f(ptr)\n",
    "    if ptr == target:\n",
    "        print(f\"Found cycle length {cycle_len}\")\n",
    "        found = True\n",
    "        break\n",
    "assert found\n",
    "\n",
    "# brute force for any inside the cycle with correct rep count\n",
    "ptr = target\n",
    "for offset in tqdm(range(1, cycle_len)):\n",
    "    ptr = f(ptr)\n",
    "    n_steps_left = cycle_len - offset\n",
    "    n_steps_given = 5555 + ((ptr[0] * ptr[1] * ptr[2] * ptr[3]) % 3000000)\n",
    "    if n_steps_left == n_steps_given:\n",
    "        print(f\"Found solution {ptr}\")\n",
    "        break\n",
    "assert h(ptr) == target"
   ]
  },
  {
   "cell_type": "code",
   "execution_count": 4,
   "metadata": {},
   "outputs": [
    {
     "name": "stdout",
     "output_type": "stream",
     "text": [
      "[x] Receiving all data\n",
      "[x] Receiving all data: 54B\n"
     ]
    },
    {
     "name": "stderr",
     "output_type": "stream",
     "text": [
      "/tmp/ipykernel_41026/4026641460.py:3: BytesWarning: Text is not bytes; assuming ASCII, no guarantees. See https://docs.pwntools.com/#bytes\n",
      "  conn.sendline(\",\".join(str(i) for i in ptr))\n"
     ]
    },
    {
     "name": "stdout",
     "output_type": "stream",
     "text": [
      "[x] Receiving all data: 113B\n",
      "[+] Receiving all data: Done (113B)\n",
      "[*] Process '/home/sy/miniconda3/bin/python' stopped with exit code 0 (pid 41041)\n",
      "Insert the secret key (4 integers separated by comma)\n",
      "Welcome admin! grey{hello_smart_admin_;D_hRkPxgxcMB7Yxk4e}\n",
      "\n"
     ]
    }
   ],
   "source": [
    "# claim flag\n",
    "\n",
    "conn.sendline(\",\".join(str(i) for i in ptr))\n",
    "print(conn.recvall().decode())"
   ]
  }
 ],
 "metadata": {
  "kernelspec": {
   "display_name": "base",
   "language": "python",
   "name": "python3"
  },
  "language_info": {
   "codemirror_mode": {
    "name": "ipython",
    "version": 3
   },
   "file_extension": ".py",
   "mimetype": "text/x-python",
   "name": "python",
   "nbconvert_exporter": "python",
   "pygments_lexer": "ipython3",
   "version": "3.11.4"
  },
  "orig_nbformat": 4
 },
 "nbformat": 4,
 "nbformat_minor": 2
}
