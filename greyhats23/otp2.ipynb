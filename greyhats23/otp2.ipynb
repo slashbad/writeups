{
 "cells": [
  {
   "cell_type": "code",
   "execution_count": 1,
   "metadata": {
    "vscode": {
     "languageId": "python"
    }
   },
   "outputs": [
    {
     "name": "stdout",
     "output_type": "stream",
     "text": [
      "token_str='4294967311,281479272661007,18447307092384415759,1208981164913597455597583,79232998604942436447498797071,5192693029572112457459728663642127'\n"
     ]
    }
   ],
   "source": [
    "# calculate tokens\n",
    "token_c = next_prime(2^32)\n",
    "token_m = next_prime(2^16)\n",
    "tokens = [token_c * token_m ^ i for i in range(6)]\n",
    "token_str = \",\".join([str(token) for token in tokens])\n",
    "print(f\"{token_str=}\")"
   ]
  },
  {
   "cell_type": "code",
   "execution_count": 2,
   "metadata": {
    "vscode": {
     "languageId": "python"
    }
   },
   "outputs": [
    {
     "name": "stdout",
     "output_type": "stream",
     "text": [
      "[x] Starting local process '/home/sy/miniconda3/envs/sage/bin/python'\n",
      "[+] Starting local process '/home/sy/miniconda3/envs/sage/bin/python': pid 29808\n"
     ]
    }
   ],
   "source": [
    "from pwn import *\n",
    "\n",
    "# find size of good subgroup\n",
    "def get_subgroup(x):\n",
    "    fs = [1]\n",
    "    for d in range(1, 25):\n",
    "        while True:\n",
    "            res = ecm.one_curve(x // product(fs), factor_digits=d)\n",
    "            if res[0] == 1:\n",
    "                break\n",
    "            fs.append(res[0])\n",
    "    # throw away small factors, in case the generator is\n",
    "    # already in some subgroup\n",
    "    fs = [f for f in fs if f == 1 or (10^2 < f < 10^14)]\n",
    "    return product(fs)\n",
    "\n",
    "while True:\n",
    "    # r = remote(\"34.124.157.94\", int(19622))\n",
    "    r = process([\"python\", \"otp2.py\"])\n",
    "    # i've hardcoded a good prime for local testing, in reality this takes 50-ish connections\n",
    "    \n",
    "    r.recvuntil(b\"p: \")\n",
    "    P = int(r.recvline().strip().decode())\n",
    "    subgroup = get_subgroup(P-1)\n",
    "    # make do with 70 bits of subgroup, we can recover the rest by brute force\n",
    "    if subgroup.nbits() < 70:\n",
    "        r.close()\n",
    "        continue\n",
    "\n",
    "    r.recvuntil(b\"pub: \")\n",
    "    gs = safeeval.expr(r.recvline().strip().decode())\n",
    "\n",
    "    r.sendline(token_str.encode())\n",
    "\n",
    "    r.recvuntil(b\"Token Hash: \")\n",
    "    token_hash = int(r.recvline().strip().decode())\n",
    "\n",
    "    r.recvuntil(b\"OTP Hash: \")\n",
    "    otp_hash = safeeval.expr(r.recvline().strip().decode())\n",
    "    break"
   ]
  },
  {
   "cell_type": "code",
   "execution_count": 3,
   "metadata": {
    "vscode": {
     "languageId": "python"
    }
   },
   "outputs": [],
   "source": [
    "# Math time!\n",
    "\n",
    "Fp = Zmod(P)\n",
    "\n",
    "g = Fp((5*7)^10)\n",
    "\n",
    "gr = Fp(otp_hash[0])\n",
    "\n",
    "grsk = gr ^ token_hash\n",
    "\n",
    "grs_t = [Fp(x) for x in otp_hash[1:]]\n",
    "grsk_tk = [x ^ token for x, token in zip(grs_t, tokens)]\n",
    "grsk_tk_prod = product(grsk_tk)\n",
    "\n",
    "gtk = grsk_tk_prod / grsk"
   ]
  },
  {
   "cell_type": "code",
   "execution_count": 4,
   "metadata": {
    "vscode": {
     "languageId": "python"
    }
   },
   "outputs": [
    {
     "name": "stdout",
     "output_type": "stream",
     "text": [
      "dlog is 239805411936731889614526 mod 1389727973749439726529247 (81 bits)\n",
      "search up to subgroup_dlog+114019*subgroup\n"
     ]
    },
    {
     "data": {
      "application/vnd.jupyter.widget-view+json": {
       "model_id": "de95f589c1b74ba9a591e787c5c4c18b",
       "version_major": 2,
       "version_minor": 0
      },
      "text/plain": [
       "0it [00:00, ?it/s]"
      ]
     },
     "metadata": {},
     "output_type": "display_data"
    },
    {
     "name": "stdout",
     "output_type": "stream",
     "text": [
      "dlog is 45909903418224678097783289171 after verification\n"
     ]
    }
   ],
   "source": [
    "from tqdm.auto import tqdm\n",
    "from itertools import count\n",
    "\n",
    "gc = g ^ token_c\n",
    "restrict = (P-1) // subgroup\n",
    "subgroup_dlog = discrete_log(gtk ^ restrict, gc ^ restrict, ord=subgroup)\n",
    "print(f\"dlog is {subgroup_dlog} mod {subgroup} ({subgroup.nbits()} bits)\")\n",
    "\n",
    "# if the subgroup is too small to recover all of the otp sum, we brute force for\n",
    "# dlogs in the form of subgroup_dlog + n*subgroup\n",
    "print(f\"search up to subgroup_dlog+{2^97 // subgroup}*subgroup\")\n",
    "acc = gc ^ subgroup_dlog\n",
    "dlog = subgroup_dlog\n",
    "gcs = gc ^ subgroup\n",
    "for _ in tqdm(count()):\n",
    "    if acc == gtk:\n",
    "        break\n",
    "    acc *= gcs\n",
    "    dlog += subgroup\n",
    "\n",
    "print(f\"dlog is {dlog} after verification\")"
   ]
  },
  {
   "cell_type": "code",
   "execution_count": 5,
   "metadata": {
    "vscode": {
     "languageId": "python"
    }
   },
   "outputs": [
    {
     "name": "stdout",
     "output_type": "stream",
     "text": [
      "otp_str='29255,16961,58364,58870,57989,37972'\n",
      "Welcome Admin! grey{I_forgot_to_remove_the_debug_message_qgn9fe58yMwJdMRf}\n"
     ]
    }
   ],
   "source": [
    "# submit the token\n",
    "\n",
    "otps = [(dlog // token_m ^ i) % token_m for i in range(6)]\n",
    "otp_str = \",\".join(str(otp) for otp in otps)\n",
    "print(f\"{otp_str=}\")\n",
    "\n",
    "r.clean()\n",
    "r.sendline(otp_str.encode())\n",
    "\n",
    "flag = r.recvuntil(b\"}\")\n",
    "print(flag.decode())"
   ]
  }
 ],
 "metadata": {
  "kernelspec": {
   "display_name": "SageMath 10.0",
   "language": "sage",
   "name": "sagemath"
  },
  "language_info": {
   "codemirror_mode": {
    "name": "ipython",
    "version": 3
   },
   "file_extension": ".py",
   "mimetype": "text/x-python",
   "name": "sage",
   "nbconvert_exporter": "python",
   "pygments_lexer": "ipython3",
   "version": "3.11.4"
  },
  "orig_nbformat": 4
 },
 "nbformat": 4,
 "nbformat_minor": 2
}
