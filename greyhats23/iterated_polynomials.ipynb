{
 "cells": [
  {
   "cell_type": "code",
   "execution_count": null,
   "metadata": {},
   "outputs": [],
   "source": [
    "# from handout\n",
    "n = 2^32+15\n",
    "F = GF(n)\n",
    "R.<x> = PolynomialRing(F)\n",
    "a = x^16 + 2206327570*x^15 + 764008823*x^14 + 2624308288*x^13 + 584210452*x^12 + 2859245580*x^11 + 2161247258*x^10 + 2475621239*x^9 + 2679079*x^8 + 3262843933*x^7 + 3126742286*x^6 + 2840770970*x^5 + 2798946498*x^4 + 1178619281*x^3 + 124682568*x^2 + 150251198*x + 1469826103\n",
    "S.<y> = R.quotient(a)"
   ]
  },
  {
   "cell_type": "code",
   "execution_count": 2,
   "metadata": {},
   "outputs": [
    {
     "data": {
      "text/plain": [
       "[  1   0   0   0   0   0   0   0   0   0   0   0   0   0   0   0]\n",
       "[  1   0   1   0   0   0   0   0   0   0   0   0   0   0   0   0]\n",
       "[  1   0   2   0   1   0   0   0   0   0   0   0   0   0   0   0]\n",
       "[  1   0   3   0   3   0   1   0   0   0   0   0   0   0   0   0]\n",
       "[  1   0   4   0   6   0   4   0   1   0   0   0   0   0   0   0]\n",
       "[  1   0   5   0  10   0  10   0   5   0   1   0   0   0   0   0]\n",
       "[  1   0   6   0  15   0  20   0  15   0   6   0   1   0   0   0]\n",
       "[  1   0   7   0  21   0  35   0  35   0  21   0   7   0   1   0]\n",
       "[209 113 751  30 841 341  81 378 302  72 109 731 887  23 496 741]\n",
       "[392 977 353  39 549 516 934 956 491  90 155 852 709 362 107 665]\n",
       "[221 562 930 200 722 845 221 414 726 233 923 952 260 375 340 140]\n",
       "[980 391 990 175 741 119 957 475 500 927 361 933 309 465 629 823]\n",
       "[ 53 670 872 332 398 162 484 538 921 884 312 158 638 600 997 987]\n",
       "[564 704 807 191  40 628 678 429  59 993 557 601  51 857 127 494]\n",
       "[225 726 730 289 672 382 657 632 639 762 235 512 716 865  52 206]\n",
       "[413 277 187 758 345 240 174 366   8 283 206 762 338 545 474 913]"
      ]
     },
     "execution_count": 2,
     "metadata": {},
     "output_type": "execute_result"
    }
   ],
   "source": [
    "# Model operation as matrix\n",
    "H = []\n",
    "for pos in range(16):\n",
    "    hy = (y^2+1)^pos\n",
    "    H.append(list(hy))\n",
    "H = Matrix(F, H)\n",
    "\n",
    "H.change_ring(ZZ) % 1000"
   ]
  },
  {
   "cell_type": "code",
   "execution_count": 13,
   "metadata": {},
   "outputs": [
    {
     "name": "stdout",
     "output_type": "stream",
     "text": [
      "Row 1, Order 79228163344367823809576701230\n",
      "dlog 39659895313370669262782774899\n",
      "Row 2, Order 18904576204146013290129967807464358880\n",
      "dlog 160904653911627958279069599163942529\n",
      "Row 3, Order 261545911121742886336251906983649969595675641752826538140\n",
      "dlog 68832491842489549589549111574014464981553494769485937929\n",
      "flag=25061313324495391639078071938906763925954963582764198847057562642948967133729\n",
      "flag_str='7h3_FunC710N_15_4c7U4Lly_l1N34r!'\n"
     ]
    }
   ],
   "source": [
    "FF = GF(n^12)\n",
    "J, P = H.change_ring(FF).jordan_form(transformation=True)\n",
    "\n",
    "y_vec = vector(FF, [0] + [1] + [0] * 14)\n",
    "g = 4213081404*y^15 + 3296429821*y^14 + 4211675621*y^13 + 1980847685*y^12 + 1112259653*y^11 + 330484598*y^10 + 23881381*y^9 + 2112413024*y^8 + 2815876074*y^7 + 4197415602*y^6 + 3078141258*y^5 + 4163495398*y^4 + 4121679949*y^3 + 2775737979*y^2 + 1590517927*y + 1223073206\n",
    "g_vec = vector(FF, list(g))\n",
    "\n",
    "yp = y_vec * P\n",
    "gp = g_vec * P\n",
    "\n",
    "crt_a, crt_m = [], []\n",
    "# for i in range(16):\n",
    "for i in [1, 2, 3]:\n",
    "    goal = gp[i] / yp[i]\n",
    "    base = J[i][i]\n",
    "    order = base.multiplicative_order()\n",
    "    print(f\"Row {i}, Order {order}\")\n",
    "    dlog = discrete_log(goal, base, ord=order)\n",
    "    print(f\"dlog {dlog}\")\n",
    "\n",
    "    crt_a.append(dlog)\n",
    "    crt_m.append(order)\n",
    "\n",
    "flag = CRT_list(crt_a, crt_m)\n",
    "print(f\"{flag=}\")\n",
    "flag_str = bytes.fromhex(hex(flag)[2:]).decode()\n",
    "print(f\"{flag_str=}\")"
   ]
  }
 ],
 "metadata": {
  "kernelspec": {
   "display_name": "SageMath 10.0",
   "language": "sage",
   "name": "sagemath"
  },
  "language_info": {
   "codemirror_mode": {
    "name": "ipython",
    "version": 3
   },
   "file_extension": ".py",
   "mimetype": "text/x-python",
   "name": "python",
   "nbconvert_exporter": "python",
   "pygments_lexer": "ipython3",
   "version": "3.11.4"
  },
  "orig_nbformat": 4
 },
 "nbformat": 4,
 "nbformat_minor": 2
}
