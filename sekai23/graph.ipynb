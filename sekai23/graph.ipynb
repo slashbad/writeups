{
 "cells": [
  {
   "cell_type": "markdown",
   "metadata": {},
   "source": [
    "## cryptoGRAPHy 1\n",
    "\n",
    "> By sahuang\n",
    ">\n",
    "> Graphs have gained an increasing amount of attention in the world of Cryptography. They are used to model many real-world problems ranging from social media to traffic routing networks. Designing a secure Graph Encryption Scheme (GES) is important as querying plaintext graph database can leak sensitive information about the users.\n",
    "> \n",
    "> In this challenge I have implemented a novel GES. Please help me verify if the cryptosystem works.\n",
    ">\n",
    "> Note: `lib.zip` remains unchanged in this series. The flag for this challenge will be used to access the next one when unlocked.\n",
    "> \n",
    "> `nc chals.sekai.team 3001`\n",
    "> \n",
    "> Attachment: lib.zip server.py\n",
    "\n",
    "The source code given is quite dense, but what matters is that we are given some sort of AES key at the start and asked to obtain information from some ciphertext. Reading the source tells us we need to use the front 16 bytes of the key and then decyrpt chunks of the ciphertext 32 bytes at a time using the provided `utils.SymmetricDecrypt`. This reveals information about the IDs of the nodes visited in order."
   ]
  },
  {
   "cell_type": "code",
   "execution_count": 10,
   "metadata": {},
   "outputs": [
    {
     "name": "stdout",
     "output_type": "stream",
     "text": [
      "[x] Opening connection to chals.sekai.team on port 3001\n",
      "[x] Opening connection to chals.sekai.team on port 3001: Trying 34.148.151.228\n",
      "[+] Opening connection to chals.sekai.team on port 3001: Done\n"
     ]
    },
    {
     "data": {
      "application/vnd.jupyter.widget-view+json": {
       "model_id": "3aca5419e5524bb39d880cba0db18938",
       "version_major": 2,
       "version_minor": 0
      },
      "text/plain": [
       "  0%|          | 0/50 [00:00<?, ?it/s]"
      ]
     },
     "metadata": {},
     "output_type": "display_data"
    },
    {
     "name": "stdout",
     "output_type": "stream",
     "text": [
      "b'> Original query: [+] Flag: SEKAI{GES_15_34sy_2_br34k_kn@w1ng_th3_k3y}'\n"
     ]
    }
   ],
   "source": [
    "from pwn import *\n",
    "from libgraph import utils\n",
    "from tqdm.auto import tqdm\n",
    "\n",
    "r = remote(\"chals.sekai.team\", 3001)\n",
    "\n",
    "r.recvuntil(b\"Key: \")\n",
    "sk = bytes.fromhex(r.recvline().strip().decode())\n",
    "sk_ske, sk_des = sk[:16], sk[16:]\n",
    "\n",
    "def do_round():\n",
    "    r.recvuntil(b\"/50: \")\n",
    "\n",
    "    # Pull starting node ID in plaintext\n",
    "    src, _ = [int(i) for i in r.recvline().strip().decode().split()] \n",
    "    r.recvuntil(b\"Response: \")\n",
    "    response_full = bytes.fromhex(r.recvline().strip().decode())\n",
    "\n",
    "    path = [src]\n",
    "    for i in range(0, len(response_full), 32):\n",
    "        # Decrypt next node ID in path\n",
    "        step_tuple = utils.SymmetricDecrypt(sk_ske, response_full[i:i+32]) \n",
    "        step_tuple = [int(i) for i in step_tuple.decode().split(\",\")]\n",
    "        path += [step_tuple[0]]\n",
    "    r.sendline(\" \".join(str(i) for i in path).encode())\n",
    "\n",
    "for _ in tqdm(range(50)):\n",
    "    do_round()\n",
    "print(r.recvuntil(b\"}\"))"
   ]
  },
  {
   "cell_type": "markdown",
   "metadata": {},
   "source": [
    "## cryptoGRAPHy 2\n",
    "\n",
    "> By sahuang\n",
    ">\n",
    "> I am wondering what can be leaked in my GES. Let me know if you can recover the graph structure in an Honest-But-Curious setting.\n",
    "> \n",
    "> Note: `lib.zip` remains unchanged in this series. The flag for this challenge will be used to access the next one when unlocked.\n",
    "> \n",
    "> `nc chals.sekai.team 3062`\n",
    ">\n",
    "> Attachment: server.py\n",
    "\n",
    "We can query with a start node and end node and are given the \"tokens\" of each node on the way to destination. The challenge wants us to reproduce the \"node degrees in the single-destination shortest path tree\".\n",
    "\n",
    "Query the paths of each starting node to the fixed destination node, generate a list of edges connecting adjacent tokens in all paths and re-build a \"tree of tokens\" (instead of tree of node IDs) with this edge list. Finally calculate the degree of each node and sort accordingly."
   ]
  },
  {
   "cell_type": "code",
   "execution_count": 11,
   "metadata": {},
   "outputs": [
    {
     "name": "stdout",
     "output_type": "stream",
     "text": [
      "[x] Opening connection to chals.sekai.team on port 3062\n",
      "[x] Opening connection to chals.sekai.team on port 3062: Trying 34.148.151.228\n",
      "[+] Opening connection to chals.sekai.team on port 3062: Done\n"
     ]
    },
    {
     "data": {
      "application/vnd.jupyter.widget-view+json": {
       "model_id": "4a818397f5134abeabf9ce2d752e8031",
       "version_major": 2,
       "version_minor": 0
      },
      "text/plain": [
       "  0%|          | 0/10 [00:00<?, ?it/s]"
      ]
     },
     "metadata": {},
     "output_type": "display_data"
    },
    {
     "name": "stdout",
     "output_type": "stream",
     "text": [
      "b'> Query u,v: [!] Invalid query!\\n> Answer: [+] Flag: SEKAI{3ff1c13nt_GES_4_Shortest-Path-Queries-_-}'\n"
     ]
    }
   ],
   "source": [
    "from pwn import *\n",
    "from tqdm.auto import tqdm\n",
    "\n",
    "r = remote(\"chals.sekai.team\", 3062)\n",
    "r.sendline(b\"SEKAI{GES_15_34sy_2_br34k_kn@w1ng_th3_k3y}\")\n",
    "\n",
    "def do_round():\n",
    "    # Recieve destination\n",
    "    r.recvuntil(b\"Destination: \")\n",
    "    dst = int(r.recvline().strip().decode())\n",
    "\n",
    "    # Query all paths from * -> destination\n",
    "    for i in range(130):\n",
    "        if i == dst:\n",
    "            continue\n",
    "        r.sendline(f\"{i},{dst}\".encode())\n",
    "\n",
    "    # Recover adjacency lists\n",
    "    token_adj = defaultdict(set)\n",
    "    for i in range(130):\n",
    "        if i == dst:\n",
    "            continue\n",
    "        r.recvuntil(b\"Token: \")\n",
    "        token = r.recvline().strip().decode()\n",
    "        r.recvuntil(b\"Query Response: \")\n",
    "        trace = r.recvline().strip().decode()\n",
    "        trace = trace[:64]\n",
    "\n",
    "        token_adj[token].add(trace)\n",
    "        token_adj[trace].add(token)\n",
    "    \n",
    "    # Calculate degrees\n",
    "    proof = \" \".join([str(i) for i in sorted([len(i) for i in token_adj.values()])])\n",
    "    r.sendline(f\"-1,-1\\n{proof}\".encode())\n",
    "\n",
    "for _ in tqdm(range(10)):\n",
    "    do_round()\n",
    "print(r.recvuntil(b\"}\"))"
   ]
  },
  {
   "cell_type": "markdown",
   "metadata": {},
   "source": [
    "## cryptoGRAPHy 3\n",
    "\n",
    "> By sahuang\n",
    ">\n",
    "> Here is the hardest part: Can you directly recover the shortest path query if you are the server, having access to the original graph and all queries? (On a side note, this setting is somewhat realistic in scenarios such as _Google Maps_, where the whole routing map is available to the adversary.)\n",
    "> \n",
    "> Note: `lib.zip` remains unchanged in this series. This is the last challenge.\n",
    "> \n",
    "> `nc chals.sekai.team 3023`\n",
    ">\n",
    "> Attachment: server.py\n",
    "\n",
    "We are given an edge list with original node IDs of a tree graph, all the lists of tokens for all possible shortest paths in a tree graph and need to find a way to map tokens back to their original node ID.\n",
    "\n",
    "For each shortest path, the last 32-byte token uniquely identifies the \"single source\" of the shortest path. We can group all of the shortest paths using by the \"single source token\", then reconstruct the tree graph like in part 2 to obtain 60 different trees. All of these trees represent the same tree but with different a different root. We now need to find a way to convert trees with different root to the original node IDs.\n",
    "\n",
    "First, find a node that can be uniquely identified from the tree structure, such as selecting the node with largest out-degree (and/or reconnecting until there is only 1 such node). Next, re-root each tree at that unqiue node. Ensure children are visited in the same order by implementing some kind of subtree hash function[^1]. Repeat this one last time using the edge list given at the start. All the trees will now have the same structure and we can map tokens to original node IDs by finding its path from root (e.g. using preorder).\n",
    "\n",
    "[^1]: https://codeforces.com/blog/entry/101010"
   ]
  },
  {
   "cell_type": "code",
   "execution_count": 7,
   "metadata": {},
   "outputs": [
    {
     "name": "stdout",
     "output_type": "stream",
     "text": [
      "[x] Opening connection to chals.sekai.team on port 3023\n",
      "[x] Opening connection to chals.sekai.team on port 3023: Trying 34.148.151.228\n",
      "[+] Opening connection to chals.sekai.team on port 3023: Done\n"
     ]
    }
   ],
   "source": [
    "from pwn import *\n",
    "\n",
    "r = remote(\"chals.sekai.team\", 3023)\n",
    "r.sendline(b\"SEKAI{3ff1c13nt_GES_4_Shortest-Path-Queries-_-}\")\n",
    "r.send(b\"1\\n2\\n\")\n",
    "\n",
    "# Original edge list\n",
    "r.recvuntil(b\"Edges: \")\n",
    "edges = safeeval.expr(r.recvline().strip().decode())\n",
    "\n",
    "# All token shortest paths\n",
    "r.recvuntil(b\"Query Responses: \\n\")\n",
    "apsp_tokens = r.recvuntil(b\"============ MENU ============\").strip().decode()\n",
    "apsp_tokens = apsp_tokens.split(\"\\n\")[:-1]\n",
    "\n",
    "# Map of family to adjacency lists\n",
    "# graphs[graph_family][a] = set(nodes connected to a)\n",
    "graphs = defaultdict(lambda: defaultdict(set))\n",
    "\n",
    "for src, dst in edges:\n",
    "    graphs[\"original\"][src].add(dst)\n",
    "    graphs[\"original\"][dst].add(src)"
   ]
  },
  {
   "cell_type": "code",
   "execution_count": 8,
   "metadata": {},
   "outputs": [
    {
     "data": {
      "application/vnd.jupyter.widget-view+json": {
       "model_id": "92daac4d655843729536a9164e3cca94",
       "version_major": 2,
       "version_minor": 0
      },
      "text/plain": [
       "  0%|          | 0/61 [00:00<?, ?it/s]"
      ]
     },
     "metadata": {},
     "output_type": "display_data"
    }
   ],
   "source": [
    "from tqdm.auto import tqdm\n",
    "\n",
    "def get_nodes_of_max_degree(g):\n",
    "    maximal_degree = max(len(v) for v in g.values())\n",
    "    nodes_with_maximal_degree = [k for k, v in g.items() if len(v) == maximal_degree]\n",
    "    return nodes_with_maximal_degree\n",
    "\n",
    "# Ensure we have 1 unique node to root with\n",
    "assert len(get_nodes_of_max_degree(graphs[\"original\"])) == 1\n",
    "\n",
    "def chunk(x, bs=64):\n",
    "    return [ x[i:i+bs] for i in range(0, len(x), bs) ]\n",
    "\n",
    "for tokens_resp in apsp_tokens:\n",
    "    tokens, _resp = tokens_resp.split(\" \") # We can throw away resp\n",
    "    tokens = chunk(tokens)\n",
    "    family = tokens[-1] # Each tree is uniquely identified by the last token\n",
    "\n",
    "    # Recover edge list\n",
    "    for src, dst in zip(tokens, tokens[1:]):\n",
    "        graphs[family][src].add(dst)\n",
    "        graphs[family][dst].add(src)\n",
    "\n",
    "def root_graph(g):\n",
    "    root_node = get_nodes_of_max_degree(g)[0]\n",
    "\n",
    "    # children[node] = [children sorted by subtree hash]\n",
    "    children = {}\n",
    "\n",
    "    # DFS and return subtree hash, while building children\n",
    "    def dfs1(node): \n",
    "        children[node] = []\n",
    "        children_hashes = []\n",
    "        for other in g[node]:\n",
    "            if other in children:\n",
    "                # Already visited, skip\n",
    "                continue\n",
    "            children_hashes.append((dfs1(other), other))\n",
    "\n",
    "        if len(children_hashes) == 0:\n",
    "            return \"()\" # leaf case\n",
    "\n",
    "        children_hashes.sort() # Sort children by subtree hash\n",
    "        own_hash, children[node] = list(zip(*children_hashes))\n",
    "        # Ensure children's subtrees are unique, otherwise the tree cannot be uniquely rooted\n",
    "        assert len(set(own_hash)) == len(own_hash) \n",
    "\n",
    "        # Calculate subtree hash, thankfully only 60 nodes in this tree\n",
    "        # so we can abuse strings\n",
    "        # https://codeforces.com/blog/entry/101010\n",
    "        return  \"(\" + \"\".join(own_hash) + \")\"\n",
    "    dfs1(root_node)\n",
    "\n",
    "    # Recover preorder\n",
    "    preorder = 0\n",
    "    node_to_preorder = {}\n",
    "    def dfs2(node):\n",
    "        nonlocal preorder\n",
    "        node_to_preorder[node] = preorder\n",
    "        preorder += 1\n",
    "        for child in children[node]:\n",
    "            dfs2(child)\n",
    "    dfs2(root_node)\n",
    "\n",
    "    return node_to_preorder\n",
    "\n",
    "# family_nodeid_to_preorder[family][token][]\n",
    "family_token_to_preorder = {}\n",
    "for family in tqdm(graphs):\n",
    "    family_token_to_preorder[family] = root_graph(graphs[family])\n",
    "preorder_to_nodeid = {v: k for k, v in family_token_to_preorder[\"original\"].items()}"
   ]
  },
  {
   "cell_type": "code",
   "execution_count": 9,
   "metadata": {},
   "outputs": [
    {
     "data": {
      "application/vnd.jupyter.widget-view+json": {
       "model_id": "f1f21d97df404c43927f9e20a2b7e212",
       "version_major": 2,
       "version_minor": 0
      },
      "text/plain": [
       "  0%|          | 0/10 [00:00<?, ?it/s]"
      ]
     },
     "metadata": {},
     "output_type": "display_data"
    },
    {
     "name": "stdout",
     "output_type": "stream",
     "text": [
      "b'> Original query: [+] Flag: SEKAI{Full_QR_Attack_is_not_easy_https://eprint.iacr.org/2022/838.pdf}'\n"
     ]
    }
   ],
   "source": [
    "def do_round():\n",
    "    r.recvuntil(b\"Token: \")\n",
    "    token = r.recvline().strip().decode()\n",
    "    r.recvuntil(b\"Query Response: \")\n",
    "    trace = r.recvline().strip().decode()\n",
    "\n",
    "    parts = chunk(token + trace[:len(trace)//2])\n",
    "    family = parts[-1]\n",
    "\n",
    "    steps = []\n",
    "    for part in parts:\n",
    "        steps.append(preorder_to_nodeid[family_token_to_preorder[family][part]])\n",
    "    ans = \" \".join(str(i) for i in steps)\n",
    "    r.sendline(ans.encode())\n",
    "\n",
    "r.sendline(b\"3\")\n",
    "for _ in tqdm(range(10)):\n",
    "    do_round()\n",
    "print(r.recvuntil(b\"}\"))"
   ]
  }
 ],
 "metadata": {
  "kernelspec": {
   "display_name": "base",
   "language": "python",
   "name": "python3"
  },
  "language_info": {
   "codemirror_mode": {
    "name": "ipython",
    "version": 3
   },
   "file_extension": ".py",
   "mimetype": "text/x-python",
   "name": "python",
   "nbconvert_exporter": "python",
   "pygments_lexer": "ipython3",
   "version": "3.11.4"
  },
  "orig_nbformat": 4
 },
 "nbformat": 4,
 "nbformat_minor": 2
}
