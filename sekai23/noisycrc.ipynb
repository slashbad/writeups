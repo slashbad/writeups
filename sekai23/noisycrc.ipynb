{
 "cells": [
  {
   "cell_type": "markdown",
   "metadata": {},
   "source": [
    "## Noisy CRC\n",
    "\n",
    "> By Utaha\n",
    "> \n",
    "> I just learned that CRC can leak information about the original text, so I added noises to make it secure even if you can choose the generator polynomial! Good luck!\n",
    "> \n",
    "> `nc chals.sekai.team 3005`\n",
    "> \n",
    "> Attachment: chall.py\n",
    "\n",
    "We can choose a CRC16 polynomial and the server gives us the CRC of a secret number jumbled with 2 other random 16 bit integers. We aren't allowed to send the same polynomial twice which prevents us from selecting numbers which appear twice. Identifying the secret number lets us decyrpt the flag.\n",
    "\n",
    "Mathematically, CRC behaves like polynomials in $F_2$, where the CRC of some ciphertext is the remainder of the ciphertext polynomial divided by the CRC polynomial. The oracle we are given is equivalent to $Q(f(x)) = s(x) \\bmod f(x)$ for some fixed secret $s(x)$[^1] and user-supplied modulus $f(x)$ where $s(x), f(x) \\isin \\mathcal{P}_n(F_2)$.\n",
    "\n",
    "To find which are the true CRCs among the noise, we want some way to tell if two different CRCs using different moduli came from the same source input. We can use a property of the modulo operation and think about using **composite moduli**. If we fix a small \"integrity modulus\" polynomial $g(x)$ and vary a large polynomial $h_i(x)$ such that $f_i(x) = g(x) \\cdot h_i(x)$ has degree 16, two true CRCs taken residues modulo $g(x)$ should be equal:\n",
    "\n",
    "$$\n",
    "\\begin{align*}\n",
    "Q(g(x) \\cdot h_i(x)) &= s(x) \\bmod g(x) \\cdot h_i(x) \\\\\n",
    "Q(g(x) \\cdot h_i(x)) \\bmod g(x) &= \\Bigl( s(x) \\bmod g(x) \\cdot h_i(x) \\Bigr) \\bmod g(x) \\\\\n",
    "&= s(x) \\bmod g(x)\n",
    "\\end{align*}\n",
    "$$\n",
    "\n",
    "By querying with multiple CRC polynomials of this form, find the most common remainder when each of the CRCs are taken modulo $g(x)$. Any CRC which does not have this remainder must have been from random noise. After filtering, select the instances where only one candidate is left and this must be a true CRC. The secret can then be recovered using the chinese remainder theorem. We know we have the correct secret if the resulting polynomial from CRT only has coefficients up to $x^{512+16}$. The flag can then be decrypted.\n",
    "\n",
    "[^1]: Technically it is $s(x) \\cdot x^{16}$ because CRC16 will shift the input data 16 bits left before processing."
   ]
  },
  {
   "cell_type": "code",
   "execution_count": 1,
   "metadata": {},
   "outputs": [
    {
     "name": "stdout",
     "output_type": "stream",
     "text": [
      "[x] Opening connection to chals.sekai.team on port 3005\n",
      "[x] Opening connection to chals.sekai.team on port 3005: Trying 34.148.151.228\n",
      "[+] Opening connection to chals.sekai.team on port 3005: Done\n"
     ]
    },
    {
     "data": {
      "application/vnd.jupyter.widget-view+json": {
       "model_id": "c3e48cecd63c47ee9ae27729380f9d1f",
       "version_major": 2,
       "version_minor": 0
      },
      "text/plain": [
       "  0%|          | 0/100 [00:00<?, ?it/s]"
      ]
     },
     "metadata": {},
     "output_type": "display_data"
    }
   ],
   "source": [
    "from pwn import *\n",
    "from tqdm.auto import tqdm\n",
    "\n",
    "Fn = GF(2)\n",
    "Rn.<x> = PolynomialRing(Fn)\n",
    "\n",
    "r = remote(\"chals.sekai.team\", int(3005))\n",
    "r.recvuntil(b\"flag: \")\n",
    "flag_enc = r.recvline().strip().decode()\n",
    "\n",
    "def oracle_send(x): # helper to query with polynomial\n",
    "    x = ZZ(list(x.change_ring(ZZ)), 2)\n",
    "    r.sendline(f\"{x}\".encode())\n",
    "\n",
    "def oracle_recv(): # helper to return polynomial\n",
    "    r.recvuntil(b\"ial: \")\n",
    "    crcs = safeeval.expr(r.recvline())\n",
    "    crcs = [ Rn(ZZ(crc).bits()) for crc in crcs ]\n",
    "    return crcs\n",
    "\n",
    "# Query 100 sets of g(x) * h_i(x)\n",
    "n = 100\n",
    "integrity_modulus = x^4 + x + 1\n",
    "assert integrity_modulus.is_irreducible()\n",
    "\n",
    "queries = []\n",
    "while len(queries) < n:\n",
    "    query = Rn.random_element(degree=12)\n",
    "    # In case random_element collides\n",
    "    if query not in queries:\n",
    "        queries.append(query)\n",
    "        oracle_send(query * integrity_modulus)\n",
    "\n",
    "results = []\n",
    "for _ in tqdm(range(n)):\n",
    "    results.append(oracle_recv())"
   ]
  },
  {
   "cell_type": "code",
   "execution_count": 2,
   "metadata": {},
   "outputs": [
    {
     "name": "stdout",
     "output_type": "stream",
     "text": [
      "top (s(x) % g(x), count): [(x^3 + x^2, 113), (x^3 + x, 18), (x, 15)]\n",
      "using integrity remainder x^3 + x^2\n",
      "Found 87 remainder / moduli pairs passing integrity check\n",
      "x^527 + x^524 + x^522 + x^521 + x^520 + x^519 + x^518 + x^517 + x^516 + x^515 + x^513 + x^511 + x^509 + x^508 + x^506 + x^505 + x^501 + x^500 + x^498 + x^496 + x^495 + x^494 + x^491 + x^490 + x^489 + x^487 + x^485 + x^484 + x^482 + x^481 + x^480 + x^478 + x^477 + x^476 + x^466 + x^465 + x^464 + x^459 + x^458 + x^457 + x^456 + x^455 + x^454 + x^449 + x^448 + x^446 + x^443 + x^441 + x^439 + x^435 + x^434 + x^433 + x^427 + x^426 + x^425 + x^424 + x^421 + x^413 + x^410 + x^408 + x^407 + x^406 + x^405 + x^404 + x^401 + x^400 + x^399 + x^396 + x^394 + x^393 + x^392 + x^390 + x^388 + x^386 + x^384 + x^381 + x^380 + x^376 + x^373 + x^370 + x^369 + x^368 + x^367 + x^363 + x^361 + x^360 + x^359 + x^357 + x^353 + x^349 + x^346 + x^343 + x^338 + x^332 + x^331 + x^330 + x^328 + x^327 + x^325 + x^324 + x^320 + x^319 + x^318 + x^316 + x^315 + x^313 + x^312 + x^311 + x^307 + x^306 + x^304 + x^302 + x^297 + x^292 + x^291 + x^289 + x^288 + x^286 + x^283 + x^280 + x^277 + x^276 + x^274 + x^273 + x^272 + x^270 + x^269 + x^268 + x^266 + x^265 + x^264 + x^262 + x^261 + x^260 + x^258 + x^257 + x^256 + x^255 + x^252 + x^251 + x^250 + x^249 + x^247 + x^246 + x^243 + x^239 + x^236 + x^235 + x^234 + x^229 + x^227 + x^226 + x^225 + x^224 + x^223 + x^220 + x^213 + x^212 + x^209 + x^206 + x^204 + x^200 + x^198 + x^197 + x^196 + x^195 + x^192 + x^191 + x^189 + x^188 + x^187 + x^186 + x^182 + x^181 + x^180 + x^179 + x^174 + x^173 + x^170 + x^169 + x^167 + x^166 + x^165 + x^164 + x^163 + x^161 + x^160 + x^154 + x^153 + x^151 + x^150 + x^148 + x^146 + x^143 + x^138 + x^137 + x^130 + x^129 + x^126 + x^124 + x^123 + x^122 + x^118 + x^115 + x^114 + x^112 + x^110 + x^107 + x^106 + x^105 + x^102 + x^101 + x^100 + x^99 + x^98 + x^93 + x^88 + x^87 + x^86 + x^84 + x^81 + x^80 + x^79 + x^78 + x^76 + x^74 + x^72 + x^71 + x^70 + x^65 + x^63 + x^62 + x^61 + x^59 + x^56 + x^55 + x^50 + x^49 + x^48 + x^46 + x^45 + x^42 + x^39 + x^37 + x^35 + x^32 + x^30 + x^24 + x^23 + x^21 + x^20 + x^19 + x^18\n",
      "7959804053407355386545668333806001195256923739259240341029022811640181258258818922917787193638963987512949552561768678402333199293986084332025428172161468\n",
      "b'SEKAI{CrCrCRcRCRcrcrcRCrCrC}'\n"
     ]
    }
   ],
   "source": [
    "from collections import Counter\n",
    "from Crypto.Cipher import AES\n",
    "from hashlib import sha256\n",
    "from Crypto.Util.number import long_to_bytes\n",
    "\n",
    "# Find the most common remainder when taken modulo integrity_modulus\n",
    "integrity_check_ctr = Counter([\n",
    "    j % integrity_modulus\n",
    "    for i in results\n",
    "    for j in i  \n",
    "])\n",
    "top_three_integrity_remainders = integrity_check_ctr.most_common(3)\n",
    "print(\"top (s(x) % g(x), count):\", top_three_integrity_remainders)\n",
    "integrity_remainder = top_three_integrity_remainders[0][0]\n",
    "print(\"using integrity remainder\", integrity_remainder)\n",
    "\n",
    "# Most common residue must have appeared at least n times\n",
    "assert top_three_integrity_remainders[0][1] >= n \n",
    "assert top_three_integrity_remainders[1][1] < n\n",
    "\n",
    "# Recover CRT parts\n",
    "crt_res, crt_mod = [], []\n",
    "for query, result in zip(queries, results):\n",
    "    remainders_passing_integrity_check = [\n",
    "        result_i for result_i in result\n",
    "        if result_i % integrity_modulus == integrity_remainder\n",
    "    ]\n",
    "    if len(remainders_passing_integrity_check) == 1:\n",
    "        crt_res.append(remainders_passing_integrity_check[0])\n",
    "        crt_mod.append(query)\n",
    "print(f\"Found {len(crt_mod)} remainder / moduli pairs passing integrity check\")\n",
    "\n",
    "secret = CRT_list(crt_res, crt_mod)\n",
    "print(secret)\n",
    "secret = ZZ(list(secret.change_ring(ZZ)), 2) // 2^16\n",
    "print(secret)\n",
    "\n",
    "cipher = AES.new(\n",
    "    sha256(long_to_bytes(secret)).digest()[:16],\n",
    "    AES.MODE_CTR,\n",
    "    nonce=b\"12345678\"\n",
    ")\n",
    "enc_flag = cipher.decrypt(bytes.fromhex(flag_enc))\n",
    "print(enc_flag)"
   ]
  }
 ],
 "metadata": {
  "kernelspec": {
   "display_name": "SageMath 10.0",
   "language": "sage",
   "name": "sagemath"
  },
  "language_info": {
   "codemirror_mode": {
    "name": "ipython",
    "version": 3
   },
   "file_extension": ".py",
   "mimetype": "text/x-python",
   "name": "python",
   "nbconvert_exporter": "python",
   "pygments_lexer": "ipython3",
   "version": "3.11.4"
  },
  "orig_nbformat": 4
 },
 "nbformat": 4,
 "nbformat_minor": 2
}
