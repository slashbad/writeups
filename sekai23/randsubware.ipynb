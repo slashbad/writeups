{
 "cells": [
  {
   "cell_type": "markdown",
   "metadata": {},
   "source": [
    "## RandSubWare\n",
    "\n",
    "> By deut-erium\n",
    ">\n",
    "> \\[Insert gpt-generated sampletext description here\\]\n",
    ">\n",
    "> `nc chals.sekai.team 3037`\n",
    ">\n",
    "> Attachment: chall.py\n",
    "\n",
    "We get an encryption oracle of a toy substitution-permutation network cipher with a randomly generated S-box and need to obtain the first round key.\n",
    "\n",
    "This 5 round SPN cipher has poor diffusion and is vulnerable to differential analysis. Obtain a corpus by sending pairs of plaintext which differ by one block at a time. Guess the last round key 6-bits at a time, then undo the last key XOR and substitution step prior to that. Correctly guessing the round key will mean the two ciphertexts will have low hamming distance from each other. Once all of the last round key has been obtained, the key expansion can be reversed to obtain the first round key."
   ]
  },
  {
   "cell_type": "code",
   "execution_count": 1,
   "metadata": {},
   "outputs": [
    {
     "name": "stdout",
     "output_type": "stream",
     "text": [
      "[x] Opening connection to chals.sekai.team on port 3037\n",
      "[x] Opening connection to chals.sekai.team on port 3037: Trying 34.148.151.228\n",
      "[+] Opening connection to chals.sekai.team on port 3037: Done\n"
     ]
    }
   ],
   "source": [
    "from pwn import *\n",
    "from randsubware import gen_pbox, SPN\n",
    "import random\n",
    "from Crypto.Util.number import bytes_to_long\n",
    "\n",
    "r = remote(\"chals.sekai.team\", 3037)\n",
    "r.recvuntil(b\"sbox: \")\n",
    "sbox = list(bytes.fromhex(r.recvline().strip().decode()))\n",
    "\n",
    "box_size = 6\n",
    "num_box = 16\n",
    "pbox = gen_pbox(box_size, num_box)\n",
    "\n",
    "spnkey = 0 # dummy key\n",
    "# local instance of SPN to help reversing steps\n",
    "spn = SPN(sbox, pbox, spnkey, 5)\n",
    "\n",
    "# Generate plaintexts with one block differenece\n",
    "differential_inputs = []\n",
    "for _ in range(25_000):\n",
    "    head = random.randrange(0, 2**90) * 64\n",
    "    da, db = random.sample(range(64), k=2)\n",
    "    differential_inputs.append((head + da, head + db))\n",
    "payload = []\n",
    "r.sendline(b\"1\")\n",
    "for a, b in differential_inputs:\n",
    "    payload.append(f\"{a:012x}\")\n",
    "    payload.append(f\"{b:012x}\")\n",
    "r.sendline(\"\".join(payload).encode())\n",
    "\n",
    "# Get ciphertextx\n",
    "r.recvuntil(b\"Quota remaining:\")\n",
    "r.recvline()\n",
    "bulk_output = r.recvline().strip().decode()\n",
    "differential_outputs = []\n",
    "for i in range(0, len(bulk_output), 48):\n",
    "    differential_outputs.append((\n",
    "        bytes_to_long(bytes.fromhex(bulk_output[i:i+24])),\n",
    "        bytes_to_long(bytes.fromhex(bulk_output[i+24:i+48]))\n",
    "    ))"
   ]
  },
  {
   "cell_type": "code",
   "execution_count": 2,
   "metadata": {},
   "outputs": [
    {
     "name": "stdout",
     "output_type": "stream",
     "text": [
      "\n"
     ]
    },
    {
     "data": {
      "application/vnd.jupyter.widget-view+json": {
       "model_id": "77e7f128bba8487f904fc68dcce26ea1",
       "version_major": 2,
       "version_minor": 0
      },
      "text/plain": [
       "  0%|          | 0/16 [00:00<?, ?it/s]"
      ]
     },
     "metadata": {},
     "output_type": "display_data"
    },
    {
     "name": "stdout",
     "output_type": "stream",
     "text": [
      "last key blocks [59, 10, 27, 18, 11, 61, 54, 2, 43, 62, 52, 62, 33, 59, 25, 13]\n",
      "last key 16594782968362502945933734587\n",
      "first key 51786547602721728170223252735\n",
      "b'Choose API option\\n1. Test encryption\\n2. Get Flag\\n(int) key: SEKAI{d04e4ba19456a8a42584d5913275fe68c30893b74eb1df136051bbd2cd086dd0}'\n"
     ]
    }
   ],
   "source": [
    "from tqdm.auto import tqdm\n",
    "from randsubware import rotate_left\n",
    "\n",
    "def solve_last_key(block_i):\n",
    "    key_scores = []\n",
    "    # For each possible key\n",
    "    for guess_key in range(64):\n",
    "        # Total hamming differences across all pairs of differential ciphertexts\n",
    "        total_differential = 0\n",
    "        for a, b in differential_outputs:\n",
    "            a_block = (a >> (block_i * 6)) & 63\n",
    "            b_block = (b >> (block_i * 6)) & 63\n",
    "\n",
    "            # Undo xossub steps\n",
    "            a_unxorsub = spn.SINV[a_block ^ guess_key]\n",
    "            b_unxorsub = spn.SINV[b_block ^ guess_key]\n",
    "\n",
    "            # Calculate hamming difference\n",
    "            total_differential += (a_unxorsub ^ b_unxorsub).bit_count()\n",
    "        key_scores.append((total_differential, guess_key))\n",
    "\n",
    "    # Find key with best fit\n",
    "    key_scores.sort()\n",
    "    return key_scores[0][1]\n",
    "\n",
    "# Get the last key\n",
    "print()\n",
    "last_key = []\n",
    "for block_i in tqdm(range(16)):\n",
    "    last_key.append(solve_last_key(block_i))\n",
    "print(\"last key blocks\", last_key)\n",
    "last_key = int(\"\".join(f\"{i:06b}\" for i in last_key[::-1]), 2)\n",
    "print(\"last key\", last_key)\n",
    "\n",
    "first_key = last_key\n",
    "for _ in range(5):\n",
    "    first_key = rotate_left(\n",
    "        spn.inv_sbox(first_key), 96 - box_size - 1, 96\n",
    "    )\n",
    "print(\"first key\", first_key)\n",
    "\n",
    "r.sendline(f\"2\\n{first_key}\".encode())\n",
    "print(r.recvuntil(b\"}\"))"
   ]
  }
 ],
 "metadata": {
  "kernelspec": {
   "display_name": "base",
   "language": "python",
   "name": "python3"
  },
  "language_info": {
   "codemirror_mode": {
    "name": "ipython",
    "version": 3
   },
   "file_extension": ".py",
   "mimetype": "text/x-python",
   "name": "python",
   "nbconvert_exporter": "python",
   "pygments_lexer": "ipython3",
   "version": "3.11.4"
  },
  "orig_nbformat": 4
 },
 "nbformat": 4,
 "nbformat_minor": 2
}
