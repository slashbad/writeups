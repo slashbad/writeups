{
 "cells": [
  {
   "cell_type": "code",
   "execution_count": 2,
   "metadata": {},
   "outputs": [],
   "source": [
    "with open(\"modified.pem\", \"r\") as f:\n",
    "    modified = f.read()\n",
    "modified = modified.strip().split(\"\\n\")[1:-1]\n",
    "modified = [line.ljust(64, \"?\") for line in modified]\n",
    "modified = \"\".join(modified)"
   ]
  },
  {
   "cell_type": "code",
   "execution_count": 3,
   "metadata": {},
   "outputs": [
    {
     "name": "stdout",
     "output_type": "stream",
     "text": [
      "int length 0x101 (for n)\n",
      "02820101\n",
      "ffffffff\n",
      "\n",
      "value of n\n",
      "0096e5d0c15710d408135a223dcf6f ... 6930000000000000001adeaf833a09\n",
      "ffffffffffffffffffffffffffffff ... fff000000000000000ffffffffffff 1876/2056\n",
      "\n",
      "int length 0x03, value of e = 65537\n",
      "0203010001\n",
      "ffffffffff\n",
      "\n",
      "int length 0x100\n",
      "02820100\n",
      "ffffffff\n",
      "\n",
      "value of d\n",
      "07b15cab09d8c57b49ea14230328f4 ... 9cc862002cad5462897b9b52c13647\n",
      "ffffffffffffffffffffffffffffff ... ffffffffffffffffffffffffffffff 1568/2048\n",
      "\n",
      "int length 0x81\n",
      "000000\n",
      "f00000\n",
      "\n",
      "value of p\n",
      "00000000000000000000000000001c ... 52d1982e75f30c9758e4e9e1708b8f\n",
      "0000000000000000000000000000ff ... ffffffffffffffffffffffffffffff 620/1032\n",
      "\n",
      "int length 0x81\n",
      "028181\n",
      "ffffff\n",
      "\n",
      "value of q\n",
      "00be1539c000000000000000000000 ... 0000000000000000baeb6b1e7ff4e7\n",
      "ffffffffff00000000000000000000 ... 0000000000000000ffffffffffffff 492/1032\n",
      "\n"
     ]
    }
   ],
   "source": [
    "import base64\n",
    "\n",
    "unkchar = \"?\"\n",
    "\n",
    "pad = \"\"\n",
    "key_b64 = modified\n",
    "key_bytes = base64.b64decode(\n",
    "    key_b64.replace(unkchar, \"A\") + pad\n",
    ")\n",
    "key_mask = base64.b64decode(\n",
    "    \"\".join([\n",
    "        \"/\" if i != unkchar else \"A\"\n",
    "        for i in key_b64\n",
    "    ]) + pad\n",
    ")\n",
    "\n",
    "bufs = [key_bytes, key_mask]\n",
    "def take(l, desc=\"?\", show=True, full=False, check=None, checkhex=None):\n",
    "    if check is None and checkhex is not None:\n",
    "        check = bytes.fromhex(checkhex)\n",
    "    if check:\n",
    "        assert int(check.hex(), 16) & int(bufs[1][:l].hex(), 16) == int(bufs[0][:l].hex(), 16)\n",
    "    if show:\n",
    "        print(desc)\n",
    "        for i in range(2):\n",
    "            if l < 30 or full:\n",
    "                print(bufs[i][:l].hex())\n",
    "            else:\n",
    "                bitcount = bin(int(bufs[i][:l].hex(), 16)).count(\"1\")\n",
    "                n_set_bits = [f\"{bitcount}/{l*8}\"] if i == 1 else []\n",
    "                print(bufs[i][:l][:15].hex(), \"...\", bufs[i][:l][-15:].hex(), *n_set_bits)\n",
    "        print()\n",
    "\n",
    "    ret = []\n",
    "    for i in range(2):\n",
    "        ret.append(int(bufs[i][:l].hex(), 16))\n",
    "\n",
    "    for i in range(2):\n",
    "        bufs[i] = bufs[i][l:]\n",
    "\n",
    "    return ret\n",
    "\n",
    "take(4, \"struct header\", show=False)\n",
    "take(3, \"int length 1, version 0\", show=False)\n",
    "take(15, \"sequence ? keytype\", show=False)\n",
    "take(4, \"octet stream header\", show=False)\n",
    "take(4, \"sequence header\", show=False)\n",
    "take(3, \"int length 1, version 0\", show=False)\n",
    "\n",
    "take(4, \"int length 0x101 (for n)\")\n",
    "n, nmask = take(0x101, \"value of n\")\n",
    "\n",
    "take(5, \"int length 0x03, value of e = 65537\", checkhex=\"0203010001\")\n",
    "e = 0x10001\n",
    "\n",
    "take(4, \"int length 0x100\", checkhex=\"02820100\")\n",
    "d, dmask = take(256, \"value of d\")\n",
    "\n",
    "take(3, \"int length 0x81\", checkhex=\"028181\")\n",
    "p, pmask = take(129, \"value of p\")\n",
    "\n",
    "take(3, \"int length 0x81\", checkhex=\"028181\")\n",
    "q, qmask = take(129, \"value of q\")"
   ]
  },
  {
   "cell_type": "code",
   "execution_count": 4,
   "metadata": {},
   "outputs": [],
   "source": [
    "bits_for_k = 14 * 4\n",
    "mod = 2 ** bits_for_k\n",
    "def M(x):\n",
    "    return x % mod\n",
    "\n",
    "lhs = M(d * e - 1)\n",
    "rhs = M((p-1) * (q-1))\n",
    "for k in range(1, e):\n",
    "    if lhs == M(k * rhs):\n",
    "        print(f\"Found {k=}\")"
   ]
  },
  {
   "cell_type": "code",
   "execution_count": 5,
   "metadata": {},
   "outputs": [
    {
     "name": "stdout",
     "output_type": "stream",
     "text": [
      "Found g=10 k=33411\n"
     ]
    }
   ],
   "source": [
    "bits_for_k = 14 * 4\n",
    "mod = 2 ** bits_for_k\n",
    "def M(x):\n",
    "    return x % mod\n",
    "\n",
    "lhs = M(d * e - 1)\n",
    "rhs = M((p-1) * (q-1))\n",
    "found_gk = None\n",
    "for g in range(100):\n",
    "    for k in range(1, e):\n",
    "        if M(g * lhs) == M(k * rhs):\n",
    "            found_gk = (g, k)\n",
    "            print(f\"Found {g=} {k=}\")\n",
    "\n",
    "assert found_gk is not None\n",
    "g, k = found_gk"
   ]
  },
  {
   "cell_type": "code",
   "execution_count": 6,
   "metadata": {},
   "outputs": [
    {
     "name": "stdout",
     "output_type": "stream",
     "text": [
      "(142710244548240793159699572784667942965705597965582813340076903550284587474979963221304279150582562939600583748288321502816326805387067383591435334776777246613012496090769018352386968305950402019439913918994189509860606368864108133875043107015125440921782018517384461932865474416011156850686483240695029074831, 133480760455551509062668077026860103880645887467422448435638716951583414195873116366992771274871618887571707777864389848099440814273801401323900893718018500769253238628985089867000767857097674388416864916468961564235405662871602980335735605932732414354471646167477790927427901295396336834533290550708175631591, 171269452369763223105693853999419492894476014718721905173840697753104840608608269495169129212915423863384814606526302751637942997180493599265963313884370644645194138012347852542059210676732844702723968555892423740128895142432473916119607171743443255213262085046184067804312360871974587154300898744257682291209, 8278934094583841693110068903061894480178711071221212883155027309946364382132593039561965904297906163347706038448712371766685375944193404200617128643333445747879770760857251065904791963632498041629119036536230962131683872944485989367781282015821112644834167576367150812902142890146415651238689044308118550087)\n",
      "(142710244548240793159699572784667942965705597965582813340076903550284587474979963221304279150582562939600583748288321502816326805387067383591435334776777246613012496090769018352386968305950402019439913918994189509860606368864108133875043107015125440921782018517384461932865474416011156850686483240695029074831, 133480760455551509062668077026860103880645887467422448435638716951583414195873116366992771274871618887571707777864389848099440814273801401323900893718018500769253238628985089867000767857097674388416864916468961564235405662871602980335735605932732414354471646167477790927427901295396336834533290550708175631591, 171269452369763223105693853999419492894476014718721905173840697753104840608608269495169129212915423863384814606526302751637942997180493599265963313884370644645194138012347852542059210676732844702723968555892423740128895142432473916119607171743443255213262085046184067804312360871974587154300898744257682291209, 98163590837699637079575328442513131161077560018336541519870067888812702284883074605916204565501674173907762978384409050596080260351401715447040843963070507936763717473289993704055901764255545101355660512578733846550759214115717430104737837286234731226509422918660299932875765859386273803656367209120230618695)\n",
      "len(results)=2\n"
     ]
    }
   ],
   "source": [
    "from itertools import product\n",
    "\n",
    "params = {\n",
    "    \"n\": (n, nmask),\n",
    "    \"d\": (d, dmask),\n",
    "    \"p\": (p, pmask),\n",
    "    \"q\": (q, qmask)\n",
    "}\n",
    "\n",
    "def get_fiddle_choices(name, cur, fiddle):\n",
    "    val, mask = params[name]\n",
    "    if fiddle & mask:\n",
    "        return [cur + (fiddle & val)]\n",
    "    else:\n",
    "        return [cur, cur + fiddle]\n",
    "    \n",
    "endpos = 1024\n",
    "results = []\n",
    "def search_and_prune(pos, vals):\n",
    "    if pos == endpos:\n",
    "        results.append(vals)\n",
    "        print(vals)\n",
    "        return\n",
    "    fiddle = 2**pos\n",
    "    mod = fiddle * 2\n",
    "    options = product(\n",
    "        *[get_fiddle_choices(name, cur, fiddle) for name, cur in zip(\"pqnd\", vals)]\n",
    "    )\n",
    "\n",
    "    for next_vals in options:\n",
    "        next_p, next_q, next_n, next_d = next_vals\n",
    "        if (next_p * next_q) % mod != next_n:\n",
    "            continue\n",
    "        if ((next_d * e - 1) * g) % mod != (k * (next_p - 1) * (next_q - 1)) % mod:\n",
    "            continue\n",
    "        search_and_prune(pos + 1, next_vals)\n",
    "\n",
    "search_and_prune(0, (0, 0, 0, 0))\n",
    "print(f\"{len(results)=}\")"
   ]
  },
  {
   "cell_type": "code",
   "execution_count": 7,
   "metadata": {},
   "outputs": [],
   "source": [
    "from gmpy2 import is_prime\n",
    "\n",
    "assert results[0][:2] == results[1][:2]\n",
    "\n",
    "p, q, n, d = results[0]\n",
    "assert is_prime(p)\n",
    "assert is_prime(q)"
   ]
  },
  {
   "cell_type": "code",
   "execution_count": 8,
   "metadata": {},
   "outputs": [
    {
     "name": "stdout",
     "output_type": "stream",
     "text": [
      "b'UMDCTF{impressive_recovery!_i_forgot_to_tell_you_this_but_the_private_key_ends_with_VATE KEY-----}'\n"
     ]
    }
   ],
   "source": [
    "from Crypto.PublicKey import RSA\n",
    "from Crypto.Cipher import PKCS1_OAEP\n",
    "\n",
    "n = p * q\n",
    "phi = (p-1) * (q-1)\n",
    "d = pow(e, -1, phi)\n",
    "\n",
    "key = RSA.construct((n, e, d))\n",
    "cipher = PKCS1_OAEP.new(key)\n",
    "print(cipher.decrypt(open(\"out.txt\", \"rb\").read()))"
   ]
  },
  {
   "cell_type": "code",
   "execution_count": 16,
   "metadata": {},
   "outputs": [
    {
     "data": {
      "text/plain": [
       "Counter({2: 488, 1: 348, 0: 188})"
      ]
     },
     "execution_count": 16,
     "metadata": {},
     "output_type": "execute_result"
    }
   ],
   "source": [
    "from collections import Counter\n",
    "\n",
    "masks = [nmask, dmask, pmask, qmask]\n",
    "Counter([\n",
    "    ([bool(m & (1 << b)) for m in masks]).count(False)\n",
    "    for b in range(1024)\n",
    "])"
   ]
  }
 ],
 "metadata": {
  "kernelspec": {
   "display_name": "base",
   "language": "python",
   "name": "python3"
  },
  "language_info": {
   "codemirror_mode": {
    "name": "ipython",
    "version": 3
   },
   "file_extension": ".py",
   "mimetype": "text/x-python",
   "name": "python",
   "nbconvert_exporter": "python",
   "pygments_lexer": "ipython3",
   "version": "3.10.14"
  }
 },
 "nbformat": 4,
 "nbformat_minor": 2
}
